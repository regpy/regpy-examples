{
 "cells": [
  {
   "cell_type": "code",
   "execution_count": null,
   "metadata": {},
   "outputs": [],
   "source": [
    "import logging\n",
    "\n",
    "import numpy as np\n",
    "import matplotlib.pyplot as plt\n",
    "\n",
    "logging.basicConfig(\n",
    "    level=logging.INFO,\n",
    "    format='%(asctime)s %(levelname)s %(name)-40s :: %(message)s'\n",
    ")\n"
   ]
  },
  {
   "cell_type": "markdown",
   "metadata": {},
   "source": [
    "# Phaseless Inverse Obstacle Scattering Problem \n",
    "\n",
    "Operator that maps the shape of a sound-soft obstacle to the phaseless far-field measurements $(|u_{\\infty}(\\hat{x},\\hat{d})|^2)$. \n",
    "The scattering problem is described by\n",
    "\n",
    "$$\n",
    "        \\begin{cases}\n",
    "            \\Delta u +\\kappa^2 u = 0 & \\text{ in } \\mathbb{R}^2\\backslash\\overline{D}\\\\\n",
    "             u = 0  & \\text{ on } \\partial D\\\\\n",
    "            \\displaystyle{\\lim_{r\\to\\infty}}r^{\\frac{1}{2}}(\\frac{\\partial u^s}{\\partial r}-i\\kappa u^s)=0 & \\text{ for } r=|x|,\n",
    "        \\end{cases}\n",
    "$$\n",
    "where $u=u^s+u^i$ is the total field and $D$ is a bounded obstacle in $\\mathbb{R}^2$ with $\\partial D\\in\\mathcal{C}^2$.\n",
    "    "
   ]
  },
  {
   "cell_type": "code",
   "execution_count": null,
   "metadata": {},
   "outputs": [],
   "source": [
    "\n",
    "from dirichlet_op import DirichletOp\n",
    "from regpy.operators import SquaredModulus\n",
    "\n",
    "#Forward operator\n",
    "op_dir = DirichletOp(\n",
    "    kappa = 3,\n",
    "    N_inc=[np.array([1,0]), np.array([0,1]), np.array([-1, 0]), np.array([0,-1])]\n",
    ")\n",
    "op_sqm = SquaredModulus(op_dir.codomain)\n",
    "\n",
    "op = op_sqm * op_dir\n"
   ]
  },
  {
   "cell_type": "code",
   "execution_count": null,
   "metadata": {},
   "outputs": [],
   "source": [
    "from regpy.solvers import RegularizationSetting\n",
    "from regpy.hilbert import L2, Sobolev\n",
    "from dirichlet_op import create_synthetic_data\n",
    "from regpy.vecsps.curve import apple\n",
    "\n",
    "setting = RegularizationSetting(op=op, penalty=Sobolev, data_fid=L2)\n",
    "\n",
    "N_ieq_synth=64\n",
    "#Exact data\n",
    "farfield, exact_solution = create_synthetic_data(op_dir, true_curve=apple(N_ieq_synth,der=3))\n",
    "\n",
    "phaseless_farfield = op_sqm(farfield)\n",
    "\n",
    "# Poisson data\n",
    "N = 2000\n",
    "data = np.sum(np.random.poisson(phaseless_farfield, (N,) + op.codomain.shape), axis=0)\n",
    "data = data/N\n",
    "\n",
    "noiselevel = setting.h_codomain.norm(data-phaseless_farfield)\n",
    "print(\"Noise level=\", noiselevel)\n",
    "\n",
    "#Initial guess\n",
    "t = 2*np.pi*np.arange(0, op_dir.N_FK)/op_dir.N_FK\n",
    "init = 0.45*np.append(np.cos(t), np.sin(t)).reshape((2, op_dir.N_FK))\n",
    "init=init.flatten()"
   ]
  },
  {
   "cell_type": "code",
   "execution_count": null,
   "metadata": {},
   "outputs": [],
   "source": [
    "x= op_sqm.codomain.coords[0]\n",
    "y = phaseless_farfield[:,0]\n",
    "plt.plot(x,np.real(y))\n"
   ]
  },
  {
   "cell_type": "code",
   "execution_count": null,
   "metadata": {},
   "outputs": [],
   "source": [
    "from regpy.solvers.nonlinear.irgnm import IrgnmCG\n",
    "from regpy.solvers.nonlinear.newton import NewtonCG\n",
    "import regpy.stoprules as rules\n",
    "\n",
    "#Solver: NewtonCG or IrgnmCG\n",
    "solver = NewtonCG(\n",
    "    setting, data, init = init,\n",
    "        cgmaxit=50, rho=0.5\n",
    ")\n",
    "\n",
    "\"\"\"\n",
    "solver = IrgnmCG(\n",
    "    setting, data,\n",
    "    regpar=1.,\n",
    "    regpar_step=0.5,\n",
    "    init=init\n",
    ")\n",
    "\"\"\"\n",
    "stoprule = (\n",
    "    rules.CountIterations(100) +\n",
    "    rules.Discrepancy(\n",
    "        setting.h_codomain.norm, data,\n",
    "        noiselevel=noiselevel,\n",
    "        tau= 1.5\n",
    "    )\n",
    ")\n",
    "\n",
    "#Plot function\n",
    "fig, axs = plt.subplots(1, 2)\n",
    "axs[0].set_title('Obstacle')\n",
    "axs[1].set_title('Phaseless Farfield')\n",
    "\n",
    "reco, reco_data = solver.run(stoprule)\n",
    "axs[0].plot(*exact_solution.z)\n",
    "axs[0].plot(*op_dir.domain.bd_eval(reco, nvals=op_dir.N_ieq, nderivs=3).z)\n",
    "\n",
    "axs[1].plot(op.codomain.coords[0][:,0], phaseless_farfield.real[:,0], label='exact')\n",
    "axs[1].plot(op.codomain.coords[0][:,0], reco_data.real[:,0], label='reco')\n",
    "axs[1].plot(op.codomain.coords[0][:,0], data.real[:,0], label='measured')\n",
    "axs[1].legend()\n",
    "plt.show()"
   ]
  }
 ],
 "metadata": {
  "kernelspec": {
   "display_name": "Python 3",
   "language": "python",
   "name": "python3"
  },
  "language_info": {
   "codemirror_mode": {
    "name": "ipython",
    "version": 3
   },
   "file_extension": ".py",
   "mimetype": "text/x-python",
   "name": "python",
   "nbconvert_exporter": "python",
   "pygments_lexer": "ipython3",
   "version": "3.11.5"
  }
 },
 "nbformat": 4,
 "nbformat_minor": 2
}
