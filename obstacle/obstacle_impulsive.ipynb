{
 "cells": [
  {
   "cell_type": "code",
   "execution_count": null,
   "metadata": {},
   "outputs": [],
   "source": [
    "import logging\n",
    "\n",
    "import numpy as np\n",
    "import matplotlib.pyplot as plt\n",
    "\n",
    "logging.basicConfig(\n",
    "    level=logging.INFO,\n",
    "    format='%(asctime)s %(levelname)s %(name)-40s :: %(message)s'\n",
    ")\n"
   ]
  },
  {
   "cell_type": "markdown",
   "metadata": {},
   "source": [
    "# Inverse Obstacle problem corrupted by impulsive noise\n",
    "\n",
    "Operator that maps the shape of a sound-soft obstacle to the far-field measurements. \n",
    "The scattering problem is described by\n",
    "\n",
    "$$\n",
    "        \\begin{cases}\n",
    "            \\Delta u +\\kappa^2 u = 0 & \\text{ in } \\mathbb{R}^2\\backslash\\overline{D}\\\\\n",
    "             u = 0  & \\text{ on } \\partial D\\\\\n",
    "            \\displaystyle{\\lim_{r\\to\\infty}}r^{\\frac{1}{2}}(\\frac{\\partial u^s}{\\partial r}-i\\kappa u^s)=0 & \\text{ for } r=|x|,\n",
    "        \\end{cases}\n",
    "$$\n",
    "where $u=u^s+u^i$ is the total field and $D$ is a bounded obstacle in $\\mathbb{R}^2$ with $\\partial D\\in\\mathcal{C}^2$. \n",
    "\n",
    "Here we assume that only the imaginary part of the far field pattern of $u^s$ can be measured, which is relevant in passive imaging.\n",
    "    "
   ]
  },
  {
   "cell_type": "code",
   "execution_count": null,
   "metadata": {},
   "outputs": [],
   "source": [
    "from  dirichlet_op import DirichletOp\n",
    "from regpy.operators import ImaginaryPart\n",
    "\n",
    "#Forward operator\n",
    "op0 = DirichletOp(\n",
    "    kappa = 3,\n",
    "    N_inc=4\n",
    ")\n",
    "op = ImaginaryPart(op0.codomain) * op0\n"
   ]
  },
  {
   "cell_type": "markdown",
   "metadata": {},
   "source": [
    "## generate synthetic data with impulsive noise"
   ]
  },
  {
   "cell_type": "code",
   "execution_count": null,
   "metadata": {},
   "outputs": [],
   "source": [
    "from regpy.solvers import RegularizationSetting\n",
    "from regpy.hilbert import L2, Sobolev\n",
    "from dirichlet_op import create_synthetic_data\n",
    "from regpy.vecsps.curve import apple\n",
    "\n",
    "N_ieq_synth=64\n",
    "#Exact data\n",
    "farfield, exact_solution = create_synthetic_data(op0, true_curve=apple(N_ieq_synth,der=3)')\n",
    "im_farfield = farfield.imag\n",
    "\n",
    "#Impulsive noise\n",
    "data = im_farfield.copy()\n",
    "n,m = data.shape\n",
    "for i in range(m):\n",
    "    for j in range(5):\n",
    "        k = np.random.randint(len(farfield))\n",
    "        data[k,i] = np.random.randint(10)-5\n",
    "        #data[k,i] = complex(np.random.randint(10)-5,np.random.randint(10)-5)\n",
    "\n",
    "#Initial guess\n",
    "t = 2*np.pi*np.arange(0, op0.N_FK)/op0.N_FK\n",
    "init = 0.45*np.append(np.cos(t), np.sin(t)).reshape((2, op0.N_FK))\n",
    "init=init.flatten()\n",
    "\n",
    "ax = plt.plot(op.codomain.coords[0],data[:,2],label='Im u_{\\infty}')"
   ]
  },
  {
   "cell_type": "markdown",
   "metadata": {},
   "source": [
    "## Standard approach\n",
    "First we try what happens if we apply a standard IRGNM solver."
   ]
  },
  {
   "cell_type": "code",
   "execution_count": null,
   "metadata": {},
   "outputs": [],
   "source": [
    "from regpy.solvers.nonlinear.irgnm import IrgnmCG\n",
    "from regpy.solvers.nonlinear.newton import NewtonCG\n",
    "import regpy.stoprules as rules\n",
    "\n",
    "L2setting = RegularizationSetting(op=op, penalty=Sobolev, data_fid=L2)\n",
    "\n",
    "#Solver: NewtonCG or IrgnmCG\n",
    "solver = IrgnmCG(L2setting, data, regpar=10, init = init)\n",
    "\n",
    "stoprule = (\n",
    "    rules.CountIterations(10) \n",
    ")\n",
    "\n",
    "#Plot function\n",
    "fig, axs = plt.subplots(1, 2)\n",
    "axs[0].set_title('Obstacle')\n",
    "axs[1].set_title('Farfield (real part)')\n",
    "\n",
    "reco, reco_data = solver.run(stoprule)\n",
    "axs[0].plot(*exact_solution.z)\n",
    "axs[0].plot(*op.domain.bd_eval(reco, nvals=op0.N_ieq, nderivs=3).z)\n",
    "\n",
    "axs[1].plot(op.codomain.coords[0][:,0], im_farfield[:,0], label='exact')\n",
    "axs[1].plot(op.codomain.coords[0][:,0], reco_data[:,0], label='reco')\n",
    "axs[1].plot(op.codomain.coords[0][:,0], data[:,0], label='measured')\n",
    "axs[1].legend()\n",
    "plt.show()"
   ]
  },
  {
   "cell_type": "markdown",
   "metadata": {},
   "source": [
    "## Reconstruction with Huber data fidelity term\n",
    "\n",
    "Now introduce a Huber data fidelity term $H_{\\sigma}$ ..."
   ]
  },
  {
   "cell_type": "code",
   "execution_count": null,
   "metadata": {},
   "outputs": [],
   "source": [
    "from regpy.solvers import TikhonovRegularizationSetting\n",
    "from regpy.solvers.linear.semismoothNewton import SemismoothNewton_bilateral\n",
    "from regpy.functionals import Huber,HorizontalShiftDilation\n",
    "\n",
    "alpha = 10.\n",
    "sigma = 0.1\n",
    "Sdat = (1./sigma)*Huber(op.codomain,sigma=sigma)\n",
    "\n",
    "fk = init"
   ]
  },
  {
   "cell_type": "markdown",
   "metadata": {},
   "source": [
    "... and iteratively solve \n",
    "$$\n",
    "    f^{l+1}  \\in \\mathrm{argmin}_f \\left[\\frac{1}{\\alpha_l}H_{\\sigma}(F'[f^l](f-f^l) + F(f^l) -g^{\\mathrm{obs}}+ \\|f-f_0\\|^2\\right]  \n",
    "$$\n",
    "\n",
    "Run the following cell many times to see the reconstructions improving!"
   ]
  },
  {
   "cell_type": "code",
   "execution_count": null,
   "metadata": {},
   "outputs": [],
   "source": [
    "yk,deriv = op.linearize(fk)\n",
    "huber_setting = TikhonovRegularizationSetting(deriv,Sobolev,Sdat,alpha,data_fid_shift=data-yk)\n",
    "dual_setting = huber_setting.dualSetting()\n",
    "solver = SemismoothNewton_bilateral(dual_setting)\n",
    "_,Tstar_p = solver.run(stoprule=rules.CountIterations(50))\n",
    "update = huber_setting.dualToPrimal(Tstar_p,argumentIsOperatorImage=True)\n",
    "fk+= update\n",
    "alpha *=0.5\n",
    "\n",
    "plt.plot(*exact_solution.z)\n",
    "plt.plot(*op.domain.bd_eval(fk, nvals=op0.N_ieq, nderivs=3).z)"
   ]
  }
 ],
 "metadata": {
  "kernelspec": {
   "display_name": "Python 3",
   "language": "python",
   "name": "python3"
  },
  "language_info": {
   "codemirror_mode": {
    "name": "ipython",
    "version": 3
   },
   "file_extension": ".py",
   "mimetype": "text/x-python",
   "name": "python",
   "nbconvert_exporter": "python",
   "pygments_lexer": "ipython3",
   "version": "3.9.15"
  }
 },
 "nbformat": 4,
 "nbformat_minor": 2
}
