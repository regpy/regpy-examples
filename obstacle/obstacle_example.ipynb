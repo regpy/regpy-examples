{
 "cells": [
  {
   "cell_type": "code",
   "execution_count": null,
   "metadata": {},
   "outputs": [],
   "source": [
    "import logging\n",
    "\n",
    "import numpy as np\n",
    "import matplotlib.pyplot as plt\n",
    "\n",
    "logging.basicConfig(\n",
    "    level=logging.INFO,\n",
    "    format='%(asctime)s %(levelname)s %(name)-40s :: %(message)s'\n",
    ")\n"
   ]
  },
  {
   "cell_type": "markdown",
   "metadata": {},
   "source": [
    "# Inverse Obstacle problem \n",
    "\n",
    "Operator that maps the shape of a sound-soft obstacle to the far-field measurements. \n",
    "The scattering problem is described by\n",
    "\n",
    "$$\n",
    "        \\begin{cases}\n",
    "            \\Delta u +\\kappa^2 u = 0 & \\text{ in } \\mathbb{R}^2\\backslash\\overline{D}\\\\\n",
    "             u = 0  & \\text{ on } \\partial D\\\\\n",
    "            \\displaystyle{\\lim_{r\\to\\infty}}r^{\\frac{1}{2}}(\\frac{\\partial u^s}{\\partial r}-i\\kappa u^s)=0 & \\text{ for } r=|x|,\n",
    "        \\end{cases}\n",
    "$$\n",
    "where $u=u^s+u^i$ is the total field and $D$ is a bounded obstacle in $\\mathbb{R}^2$ with $\\partial D\\in\\mathcal{C}^2$.\n",
    "    "
   ]
  },
  {
   "cell_type": "code",
   "execution_count": null,
   "metadata": {},
   "outputs": [],
   "source": [
    "from  dirichlet_op import DirichletOp\n",
    "\n",
    "#Forward operator\n",
    "op = DirichletOp(\n",
    "    kappa = 3,\n",
    "    N_inc=4\n",
    ")\n"
   ]
  },
  {
   "cell_type": "code",
   "execution_count": null,
   "metadata": {},
   "outputs": [],
   "source": [
    "from regpy.solvers import RegularizationSetting\n",
    "from regpy.hilbert import L2, Sobolev\n",
    "from dirichlet_op import create_synthetic_data\n",
    "from regpy.vecsps.curve import apple\n",
    "\n",
    "setting = RegularizationSetting(op=op, penalty=Sobolev, data_fid=L2)\n",
    "\n",
    "N_ieq_synth=64\n",
    "#Exact data\n",
    "farfield, exact_solution = create_synthetic_data(op, true_curve=apple(N_ieq_synth,der=3))\n",
    "\n",
    "# Gaussian data \n",
    "noise_level = 0.01\n",
    "noise = op.codomain.randn()\n",
    "noise = noise_level*setting.h_codomain.norm(farfield)/setting.h_codomain.norm(noise)*noise\n",
    "data = farfield+noise\n",
    "\n",
    "#Initial guess\n",
    "t = 2*np.pi*np.arange(0, op.N_FK)/op.N_FK\n",
    "init = 0.45*np.append(np.cos(t), np.sin(t)).reshape((2, op.N_FK))\n",
    "init=init.flatten()"
   ]
  },
  {
   "cell_type": "code",
   "execution_count": null,
   "metadata": {},
   "outputs": [],
   "source": [
    "x= op.codomain.coords[0]\n",
    "y = farfield[:,0]\n",
    "plt.plot(x,np.real(y))\n"
   ]
  },
  {
   "cell_type": "code",
   "execution_count": null,
   "metadata": {},
   "outputs": [],
   "source": [
    "from regpy.solvers.nonlinear.irgnm import IrgnmCG\n",
    "from regpy.solvers.nonlinear.newton import NewtonCG\n",
    "import regpy.stoprules as rules\n",
    "\n",
    "#Solver: NewtonCG or IrgnmCG\n",
    "solver = NewtonCG(\n",
    "    setting, data, init = init,\n",
    "        cgmaxit=50, rho=0.6\n",
    ")\n",
    "\n",
    "\"\"\"\n",
    "solver = IrgnmCG(\n",
    "    setting, data,\n",
    "    regpar=1.,\n",
    "    regpar_step=0.5,\n",
    "    init=init\n",
    ")\n",
    "\"\"\"\n",
    "stoprule = (\n",
    "    rules.CountIterations(100) +\n",
    "    rules.Discrepancy(\n",
    "        setting.h_codomain.norm, data,\n",
    "        noiselevel=noise_level,\n",
    "        tau=2.1\n",
    "    )\n",
    ")\n",
    "\n",
    "#Plot function\n",
    "fig, axs = plt.subplots(1, 2)\n",
    "axs[0].set_title('Obstacle')\n",
    "axs[1].set_title('Farfield (real part)')\n",
    "\n",
    "reco, reco_data = solver.run(stoprule)\n",
    "axs[0].plot(*exact_solution.z)\n",
    "axs[0].plot(*op.domain.bd_eval(reco, nvals=op.N_ieq, nderivs=3).z)\n",
    "\n",
    "axs[1].plot(op.codomain.coords[0][:,0], farfield.real[:,0], label='exact')\n",
    "axs[1].plot(op.codomain.coords[0][:,0], reco_data.real[:,0], label='reco')\n",
    "axs[1].plot(op.codomain.coords[0][:,0], data.real[:,0], label='measured')\n",
    "axs[1].legend()\n",
    "plt.show()"
   ]
  }
 ],
 "metadata": {
  "kernelspec": {
   "display_name": "Python 3",
   "language": "python",
   "name": "python3"
  },
  "language_info": {
   "codemirror_mode": {
    "name": "ipython",
    "version": 3
   },
   "file_extension": ".py",
   "mimetype": "text/x-python",
   "name": "python",
   "nbconvert_exporter": "python",
   "pygments_lexer": "ipython3",
   "version": "3.10.12"
  }
 },
 "nbformat": 4,
 "nbformat_minor": 2
}
