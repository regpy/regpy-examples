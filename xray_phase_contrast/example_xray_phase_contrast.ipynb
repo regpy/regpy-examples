{
 "cells": [
  {
   "cell_type": "markdown",
   "metadata": {},
   "source": [
    "This is an example for the `regpy.solvers.nonlinear.irgnm.IrgnmCG` solver for the example of __X-ray phase retriavel__.\n",
    "\n",
    "In X-ray phase retrieval, we assume that a coherent plain wave hits a shallow monomaterial object that absorbs part of the beam intensity and phase shifts the rest, depending on the density of material. The ratio of shifting and abortion is given by $\\beta/\\delta$. The wave the propagates behind the object and then the intensity of the wave (hologram) is measured at some point.  The phase information is lost and needs to be recovered.\n",
    "\n",
    "The forward operator $F$ of X-ray phase contrast imaging is defined by\n",
    "\n",
    "$$\n",
    "    F(\\phi) = |D_F(exp(-(i + c_{\\beta/\\delta}) \\cdot  phi))|^2 = I\n",
    "$$\n",
    "\n",
    "where $D_F$ is the Fresnel-propagator and $c_{\\beta/\\delta}$ is\n",
    "a constant that parametrizes the magnitude of X-ray absorption versus X-ray\n",
    "refraction for the imaged sample ( $c_{\\beta/\\delta} = \\beta/\\delta$).\n",
    "\n",
    "![image_phase_retrival.png](image_phase_retrival.png)\n",
    "The image is from the [phd thesis of Simon Maretzke (2019)](https://ediss.uni-goettingen.de/handle/21.11130/00-1735-0000-0003-C12B-3)\n",
    "\n",
    "The __Iteratively Regularized Gauss-Newton Method method__ minimizes in each iteration: \n",
    "$$\n",
    "    \\Vert(x_{n}) + T'[x_n] h - data\\Vert^{2} + regpar_{n} \\cdot \\Vert x_{n} + h - init\\Vert^{2}\n",
    "$$\n",
    "where $T$ is a Frechet-differentiable operator, using `regpy.solvers.linear.tikhonov.TikhonovCG`.\n",
    "$regpar_n$ is a decreasing geometric sequence of regularization parameters."
   ]
  },
  {
   "cell_type": "code",
   "execution_count": null,
   "metadata": {},
   "outputs": [],
   "source": [
    "from regpy.solvers.nonlinear.irgnm import IrgnmCG\n",
    "\n",
    "from xray_phase_contrast_operator import get_xray_phase_contrast\n",
    "from regpy.hilbert import L2\n",
    "from regpy.vecsps import UniformGridFcts\n",
    "from regpy.solvers import RegularizationSetting\n",
    "import regpy.stoprules as rules\n",
    "\n",
    "import numpy as np\n",
    "from scipy.datasets import ascent\n",
    "import logging\n",
    "import matplotlib.pyplot as plt\n",
    "\n",
    "logging.basicConfig(\n",
    "    level=logging.INFO,\n",
    "    format='%(asctime)s %(levelname)s %(name)-20s :: %(message)s'\n",
    ")\n"
   ]
  },
  {
   "cell_type": "markdown",
   "metadata": {},
   "source": [
    "We first have to define the forward propagation operator for that we have to define a grid and a fresnel number, which is encoding the propagation distance"
   ]
  },
  {
   "cell_type": "code",
   "execution_count": null,
   "metadata": {},
   "outputs": [],
   "source": [
    "\n",
    "\n",
    "# Example parameters\n",
    "fresnel_number = 5e-4    # Fresnel-number of the simulated imaging system, associated with the unit-lengthscale\n",
    "                         # in grid (i.e. with the size of one pixel for the above choice of grid)\n",
    "noise_level = 0.01      # Noise level in the simulated data\n",
    "\n"
   ]
  },
  {
   "cell_type": "code",
   "execution_count": null,
   "metadata": {},
   "outputs": [],
   "source": [
    "\n",
    "# Uniform grid of unit-spacing\n",
    "grid = UniformGridFcts(np.arange(1024), np.arange(1024))\n",
    "\n",
    "# Forward operator\n",
    "op = get_xray_phase_contrast(grid, fresnel_number)\n"
   ]
  },
  {
   "cell_type": "markdown",
   "metadata": {},
   "source": [
    "We build our simulated data using the ascent image in the scipy library"
   ]
  },
  {
   "cell_type": "code",
   "execution_count": null,
   "metadata": {},
   "outputs": [],
   "source": [
    "\n",
    "# Create phantom phase-image (= padded example-image)\n",
    "exact_solution = ascent().astype(np.float64)\n",
    "#normalizing the image\n",
    "exact_solution /= exact_solution.max()\n",
    "#The wave needs to propagated and for that some room around the signal is necessary there for we add padding\n",
    "pad_amount = tuple([(grid.shape[0] - exact_solution.shape[0])//2,\n",
    "                    (grid.shape[1] - exact_solution.shape[1])//2])\n",
    "exact_solution = np.pad(exact_solution, pad_amount, 'constant', constant_values=0)\n",
    "\n",
    "\n",
    "\n",
    "fig,axs = plt.subplots(1,2,figsize=(12,5))\n",
    "ax = axs[0]\n",
    "im = ax.imshow(ascent().astype(np.float64))\n",
    "ax.set_title(\"scipy ascent image\")\n",
    "plt.colorbar(im,ax=ax)\n",
    "ax = axs[1]\n",
    "im = plt.imshow(exact_solution)\n",
    "ax.set_title(\"scaled and paded\")\n",
    "plt.colorbar(im,ax=ax)\n"
   ]
  },
  {
   "cell_type": "code",
   "execution_count": null,
   "metadata": {},
   "outputs": [],
   "source": [
    "\n",
    "# Create exact and noisy data\n",
    "exact_data = op(exact_solution)\n",
    "noise = noise_level * op.codomain.randn()\n",
    "data = exact_data + noise\n",
    "fig,axs = plt.subplots(1,2,figsize=(12,5))\n",
    "ax = axs[0]\n",
    "im = ax.imshow(exact_data)\n",
    "ax.set_title(\"exact data\")\n",
    "plt.colorbar(im,ax=ax)\n",
    "ax = axs[1]\n",
    "im = plt.imshow(data)\n",
    "ax.set_title(f\"datawith {noise_level} noise\")\n",
    "plt.colorbar(im,ax=ax)\n"
   ]
  },
  {
   "cell_type": "markdown",
   "metadata": {},
   "source": [
    "We then can __set up__ the __solver__ `regpy.solvers.nonlinear.irgnm.IrgnmCG` by building a __setting__ using the operator and the `L2` spaces, which we then give into the solver together with the __`data`__ and a regularization parameter __`regpar`__ "
   ]
  },
  {
   "cell_type": "code",
   "execution_count": null,
   "metadata": {},
   "outputs": [],
   "source": [
    "\n",
    "# Image-reconstruction using the IRGNM method\n",
    "#define setting with operator and its domain and co-domain\n",
    "setting = RegularizationSetting(op=op, penalty=L2, data_fid=L2)\n",
    "#Setup the solver\n",
    "solver = IrgnmCG(setting, data, regpar=10)\n"
   ]
  },
  {
   "cell_type": "markdown",
   "metadata": {},
   "source": [
    "We also need to define a stopping rule here we combine a maximum amount of iterations and the discrepancy principle (for more see `regpy.stoprules.rules`).  "
   ]
  },
  {
   "cell_type": "code",
   "execution_count": null,
   "metadata": {},
   "outputs": [],
   "source": [
    "\n",
    "#define the stoprule from maximum amount of iterations and discrepancy principle\n",
    "stoprule = (\n",
    "    rules.CountIterations(max_iterations=30) +\n",
    "    rules.Discrepancy(\n",
    "        setting.h_codomain.norm,\n",
    "        data,\n",
    "        noiselevel=setting.h_codomain.norm(noise),\n",
    "        tau=1.1\n",
    "    )\n",
    ")\n"
   ]
  },
  {
   "cell_type": "markdown",
   "metadata": {},
   "source": [
    "We now can run the solver. "
   ]
  },
  {
   "cell_type": "code",
   "execution_count": null,
   "metadata": {},
   "outputs": [],
   "source": [
    "#run the solver with stopping rule\n",
    "reco, reco_data = solver.run(stoprule)"
   ]
  },
  {
   "cell_type": "code",
   "execution_count": null,
   "metadata": {},
   "outputs": [],
   "source": [
    "\n",
    "# Plot results\n",
    "fig,axs = plt.subplots(1,3,figsize = (20,5))\n",
    "ax = axs[0]\n",
    "ax.set_title('Simulated data (hologram)')\n",
    "im = ax.imshow(data)\n",
    "fig.colorbar(im,ax=ax)\n",
    "\n",
    "ax = axs[1]\n",
    "ax.set_title('Reconstruction (phase-image)')\n",
    "im = ax.imshow(reco)\n",
    "fig.colorbar(im,ax=ax)\n",
    "\n",
    "ax = axs[2]\n",
    "ax.set_title('Exact solution (phase-image)')\n",
    "im = ax.imshow(exact_solution)\n",
    "fig.colorbar(im,ax = ax)\n",
    "\n",
    "plt.show()\n"
   ]
  }
 ],
 "metadata": {
  "kernelspec": {
   "display_name": "regpy_re",
   "language": "python",
   "name": "python3"
  },
  "language_info": {
   "codemirror_mode": {
    "name": "ipython",
    "version": 3
   },
   "file_extension": ".py",
   "mimetype": "text/x-python",
   "name": "python",
   "nbconvert_exporter": "python",
   "pygments_lexer": "ipython3",
   "version": "3.9.15"
  }
 },
 "nbformat": 4,
 "nbformat_minor": 2
}
