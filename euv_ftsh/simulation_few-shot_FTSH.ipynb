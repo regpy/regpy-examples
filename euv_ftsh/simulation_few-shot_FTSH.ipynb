{
 "cells": [
  {
   "cell_type": "markdown",
   "id": "b1a7400a",
   "metadata": {},
   "source": [
    "# FTSH simulation of spectral dependent input"
   ]
  },
  {
   "cell_type": "markdown",
   "id": "8e26f333",
   "metadata": {},
   "source": [
    "This notebook demonstrates the used reconstruction algorithms to spectrally separate and reconstruct fields with simulated diffraction patterns from wavelength dependent input.\n",
    "As it works pixel based to match the camera pixels in a real experiment, the inputs (both reference and sample) are scaled according to their wavelength."
   ]
  },
  {
   "cell_type": "markdown",
   "id": "f33348db",
   "metadata": {},
   "source": [
    "### Imports"
   ]
  },
  {
   "cell_type": "code",
   "execution_count": null,
   "id": "12b89075",
   "metadata": {},
   "outputs": [],
   "source": [
    "import numpy as np\n",
    "import matplotlib.pyplot as plt\n",
    "\n",
    "from skimage import io\n",
    "from skimage import transform\n",
    "\n",
    "import regpy\n",
    "from ftsh import spectroscopic_FTH\n",
    "from regpy.solvers.nonlinear.newton import NewtonCG\n",
    "\n",
    "from matplotlib.colors import LogNorm, SymLogNorm, CenteredNorm\n",
    "from mpl_toolkits.axes_grid1 import make_axes_locatable\n",
    "from scipy.constants import speed_of_light as sol\n",
    "from scipy.interpolate import interpn\n",
    "from copy import deepcopy\n",
    "from IPython import display\n",
    "\n",
    "cmaps = ['Oranges', 'Greens','Blues','Purples']\n"
   ]
  },
  {
   "cell_type": "markdown",
   "id": "50e5a182",
   "metadata": {},
   "source": [
    "### Define functions\n",
    "* wavelengthscaling_uniformgrid: zooms the array depending on the scale in scales, uses regpy.vecsps.UniformGridFcts. As the operator is based on pixel wise calculation, the function is used to scale the input images according to the wavelengths.\n",
    "* gauss: 2D gaussian, used to mimic illumination of sample and reference with a gaussian beam profile.\n",
    "* interfholo: calculates $|\\sum_{\\lambda} \\mathcal{F} (\\mathrm{probe} + \\mathrm{ref} \\cdot \\mathrm{e}^{- 2\\pi i ft})|$, i.e. the delay dependent diffraction patterns in the far field."
   ]
  },
  {
   "cell_type": "code",
   "execution_count": null,
   "id": "8ab405ee",
   "metadata": {},
   "outputs": [],
   "source": [
    "def wavelengthscaling_uniformgrid(arrin, grid0, scales, imaxes = (-2,-1)):\n",
    "    axes = [ax if ax.flags['C_CONTIGUOUS'] else ax.copy(order = 'C') for ll, ax\n",
    "            in enumerate(grid0.axes)]\n",
    "    arrout = np.array(\n",
    "        [interpn((axes[imaxes[0]],axes[imaxes[1]]), arrin, \n",
    "        (grid0.coords[imaxes[0]][0]*scale,grid0.coords[imaxes[1]][0]*scale), \n",
    "        bounds_error=False, fill_value=0 ) for k, scale in enumerate(scales)])\n",
    "    return arrout\n",
    "\n",
    "def gauss(xx, yy, center, width, amplitude=1):\n",
    "    x0, y0 = center\n",
    "    dx, dy = width\n",
    "    return amplitude * np.exp(-((xx - x0) ** 2 / dx ** 2 + (yy - y0) ** 2 / dy ** 2))\n",
    "\n",
    "def interfholo(probe, ref,delays, frequencies,axes = (-2,-1)):\n",
    "    phasefacts = np.exp(\n",
    "                    -1j * 2 * np.pi * frequencies[np.newaxis,:,np.newaxis,np.newaxis]\n",
    "                    *delays[:,np.newaxis,np.newaxis,np.newaxis])\n",
    "    ffts = np.fft.fftshift(\n",
    "        np.fft.ifftn(\n",
    "            np.fft.ifftshift(\n",
    "                probe[np.newaxis,:,:,:]+ref[np.newaxis,:,:,:]*phasefacts, \n",
    "                axes=axes),\n",
    "                axes=axes,norm='ortho'), \n",
    "                axes=axes)\n",
    "    output = np.abs(np.sum(np.abs(ffts)**2,axis=1))\n",
    "    return output"
   ]
  },
  {
   "cell_type": "markdown",
   "id": "2837faba",
   "metadata": {},
   "source": [
    "### Parameters\n",
    "In the following we set the parameters used for the simulation and reconstruction.\n",
    "We need to set the delays, the wavelengths (calculated from the fundamental wavelength), and their ratio for the wavelength dependent scaling, as well as the number of pixels (detectorsize), the region of interest where the holograms will show up and an intensity to calculate the noiselevel.\n",
    "\n",
    "We also define functions to update the shown images live during the field reconstructions."
   ]
  },
  {
   "cell_type": "code",
   "execution_count": null,
   "id": "b2293927",
   "metadata": {},
   "outputs": [],
   "source": [
    "delaynum = 4 ## the number of used delay steps\n",
    "detectorsize = (1024, 1024)\n",
    "wl = 1030e-9 ## fundamental wavelength\n",
    "harms = [15,17,19,21] ##harmonic index\n",
    "intensity=4*1e7 #used to calculate noise\n",
    "wls = wl/np.asarray(harms)\n",
    "T0 = wl/sol\n",
    "f0 = sol/wl\n",
    "freqs = sol*np.asarray(harms)/wl\n",
    "wlscaling_factor=wls/wls[0]\n",
    "\n",
    "roi = np.array([[400,675],[655,1024]])\n",
    "#%% delay construction\n",
    "delayfull = np.linspace(0,wl/sol,150)\n",
    "used_inds=np.linspace(0, len(delayfull)/2,delaynum,endpoint=False).astype(int)\n",
    "delay = delayfull[used_inds]\n",
    "imax = (-2,-1)"
   ]
  },
  {
   "cell_type": "code",
   "execution_count": null,
   "id": "47c4f717",
   "metadata": {},
   "outputs": [],
   "source": [
    "## functions to dynamically update the plots while the high-res. reconstruction is running.\n",
    "def updatelineplot(hdisplay,fig,ax,lines,ydatas):\n",
    "    for (line, ydata) in zip(lines, ydatas):\n",
    "        line.set_ydata(ydata)\n",
    "        line.set_xdata(np.arange(len(ydata)))\n",
    "    ax.relim()\n",
    "    ax.autoscale_view(True,True,True)\n",
    "    fig.canvas.draw()\n",
    "    hdisplay.update(fig)\n",
    "#     fig.canvas.flush_events()\n",
    "def updateimages(disp, figi, axi, imis, dati, cbars, step):\n",
    "    for (ax, recocom, wavel, harm, imi, cbi) in zip(axi.flatten(),dati, wls[:], harms [:], imis, cbars):\n",
    "        ax.set_title('$\\\\lambda_{{{}}}$ = {:1.1f}nm, step {}'.format(harm,1e9*wavel,step))\n",
    "        imi.set_data(np.abs(recocom))\n",
    "        imi.autoscale()\n",
    "        imi.draw(figi._get_renderer())\n",
    "        cbi.update_normal(imi)\n",
    "    disp.update(figi)\n",
    "def updatedataimages(disp, figi, axs, ims, dati, cbars, step,refdat, useim=3):\n",
    "    ims[0].set_data(np.abs(dati[useim]))\n",
    "    ims[0].autoscale()\n",
    "    ims[0].draw(figi._get_renderer())\n",
    "    axs[1].set_title('reco. data [{}] step {}'.format(useim,step))\n",
    "    axs[2].set_title('Difference step {}'.format(step))\n",
    "    ims[1].set_array(np.abs(refdat[useim]-dati[useim]))\n",
    "    ims[1].autoscale()\n",
    "    ims[1].draw(fig2._get_renderer())\n",
    "    cbars[0].update_normal(ims[0])\n",
    "    cbars[1].update_normal(ims[1])\n",
    "    disp.update(figi)"
   ]
  },
  {
   "cell_type": "markdown",
   "id": "c51cd6b5",
   "metadata": {},
   "source": [
    "### Define domain"
   ]
  },
  {
   "cell_type": "markdown",
   "id": "eaae02e0",
   "metadata": {},
   "source": [
    "regpy operators used as the forward model for the reconstructions require a domain and a codomain. The domain used here is a uniform grid (regpy.vecsps.UniformGridFcts) that has the shape (frequencies, pixel_x, pixel_y). The codomain is implicitly constructed when the operator is defined.\n",
    "As the spectral separation uses only the region of interest defined in the parameters, we define multiple uniform grids (roi, and full detectorsize)."
   ]
  },
  {
   "cell_type": "code",
   "execution_count": null,
   "id": "8c9bda97",
   "metadata": {},
   "outputs": [],
   "source": [
    "## define the domain\n",
    "yy2,xx2 = np.meshgrid(np.linspace(-0.5,0.5,detectorsize[0]), np.linspace(-0.5,0.5,detectorsize[1]))\n",
    "nf = len(freqs)\n",
    "y_ax_sm = np.arange(roi[0,0], roi[0,1])\n",
    "x_ax_sm = np.arange(roi[1,0], roi[1,1])\n",
    "y_ax = np.linspace(-detectorsize[0]/2, detectorsize[0]/2, detectorsize[0])\n",
    "x_ax = np.linspace(-detectorsize[1]/2, detectorsize[1]/2, detectorsize[1])\n",
    "f_indices = np.arange(nf)\n",
    "detgrid = regpy.vecsps.UniformGridFcts(f_indices,y_ax, x_ax, dtype = complex)\n",
    "detgrid_small = regpy.vecsps.UniformGridFcts(f_indices, y_ax_sm, x_ax_sm, dtype = complex)\n",
    "detgrid3 = regpy.vecsps.UniformGridFcts(freqs,y_ax, x_ax, dtype = complex)"
   ]
  },
  {
   "cell_type": "markdown",
   "id": "00f29ed9",
   "metadata": {},
   "source": [
    "### Load images for reference and sample\n",
    "The simulation uses a large reference hole and the CRC1465 logo from which different squares have been removed to serve as wavelength dependent input, which are illuminated with gaussian shaped beam profiles (flat phase).\n",
    "The samples are moved by 193 pixels from the center and scaled according to their wavelength. The reference is scaled as well."
   ]
  },
  {
   "cell_type": "code",
   "execution_count": null,
   "id": "78b1f18e",
   "metadata": {},
   "outputs": [],
   "source": [
    "semmask1024 = np.load(r'imagefiles/semmask1024_11.npy')\n",
    "refmask = deepcopy(semmask1024[1:5])\n",
    "refmask[:,:,600:] = 0\n",
    "refmask[:,:480,:] = 0\n",
    "\n",
    "new_sample = io.imread(r\"imagefiles/SFB_Logo_centered.png\") # use appropriate example image here\n",
    "new_sample1 = io.imread(r\"imagefiles/SFB_Logo_centeredmissing1.png\") # use appropriate example image here\n",
    "new_sample2 = io.imread(r\"imagefiles/SFB_Logo_centeredmissing2.png\") # use appropriate example image here\n",
    "new_sample3 = io.imread(r\"imagefiles/SFB_Logo_centeredmissing3.png\") # use appropriate example image here\n",
    "fullsample0 = transform.resize(new_sample/255,detectorsize,order=0) \n",
    "fullsample1 = transform.resize(new_sample1/255,detectorsize,order=0) \n",
    "fullsample2 = transform.resize(new_sample2/255,detectorsize,order=0) \n",
    "fullsample3 = transform.resize(new_sample3/255,detectorsize,order=0) "
   ]
  },
  {
   "cell_type": "code",
   "execution_count": null,
   "id": "d0d95b58",
   "metadata": {},
   "outputs": [],
   "source": [
    "probe_beam_in = gauss(xx2, yy2, (0, 0), \n",
    "                       (int(detectorsize[0]/32), int(detectorsize[1]/64)))\n",
    "ref_beam_in = gauss(xx2, yy2, (0, 0), \n",
    "                     (0.025, 0.025))\n",
    "\n",
    "\n",
    "probe_beam_full0 = (fullsample0) * probe_beam_in\n",
    "probe_beam_full1 = (fullsample1) * probe_beam_in\n",
    "probe_beam_full2 = (fullsample2) * probe_beam_in\n",
    "probe_beam_full3 = (fullsample3) * probe_beam_in\n",
    "\n",
    "probe_beam_full0= np.roll(probe_beam_full0, (0,193), axis =(0,1))\n",
    "probe_beam_full1= np.roll(probe_beam_full1, (0,193), axis =(0,1))\n",
    "probe_beam_full2= np.roll(probe_beam_full2, (0,193), axis =(0,1))\n",
    "probe_beam_full3= np.roll(probe_beam_full3, (0,193), axis =(0,1))\n",
    "\n",
    "probe_beams_full0 = wavelengthscaling_uniformgrid(probe_beam_full0, detgrid3, wlscaling_factor)\n",
    "probe_beams_full1 = wavelengthscaling_uniformgrid(probe_beam_full1, detgrid3, wlscaling_factor)\n",
    "probe_beams_full2 = wavelengthscaling_uniformgrid(probe_beam_full2, detgrid3, wlscaling_factor)\n",
    "probe_beams_full3 = wavelengthscaling_uniformgrid(probe_beam_full3, detgrid3, wlscaling_factor)\n",
    "\n",
    "probe_beams_full = np.array((1*probe_beams_full0[0],\n",
    "                               0.5*probe_beams_full1[1],\n",
    "                               0.8*probe_beams_full2[2],\n",
    "                               1.2*probe_beams_full3[3]))\n",
    "\n",
    "probe_beams_full = 2*probe_beams_full/probe_beams_full.max()\n",
    "\n",
    "ref_beams_in = wavelengthscaling_uniformgrid(ref_beam_in, detgrid, wlscaling_factor) \n",
    "ref_beams_full = 0.5 * (refmask * ref_beams_in)/(refmask * ref_beams_in).max()\n"
   ]
  },
  {
   "cell_type": "markdown",
   "id": "efa02426",
   "metadata": {},
   "source": [
    "### Calculate diffraction patterns for delays in delay"
   ]
  },
  {
   "cell_type": "markdown",
   "id": "8bdf753a",
   "metadata": {},
   "source": [
    "Diffraction patterns are calculated for the 4 delay steps. Afterwards possonian noise is applied according to the intensity given in the parameters."
   ]
  },
  {
   "cell_type": "code",
   "execution_count": null,
   "id": "0c16b0fb",
   "metadata": {},
   "outputs": [],
   "source": [
    "simdata = interfholo(probe_beams_full, ref_beams_full, delay, freqs)\n",
    "data = np.sum(simdata)/intensity*np.random.poisson(intensity * simdata/np.sum(simdata)) ## with noise\n",
    "# data = simdata ## without noise"
   ]
  },
  {
   "cell_type": "markdown",
   "id": "3b729121",
   "metadata": {},
   "source": [
    "### Create mask and operator for spectral separation"
   ]
  },
  {
   "cell_type": "markdown",
   "id": "e4ef5059",
   "metadata": {},
   "source": [
    "A mask spanning the full region of interest is calculated and the operator for spectral separation is defined. The mask operator is not changing anything in this case. This is how the masking would be applied in a $N_{\\\\tau}< N_{\\\\lamba}$ case. "
   ]
  },
  {
   "cell_type": "code",
   "execution_count": null,
   "id": "2686b1d7",
   "metadata": {},
   "outputs": [],
   "source": [
    "## create mask for embedding operator (no masking, just roi)\n",
    "maskprobe = np.ones(probe_beams_full.shape, bool)\n",
    "semprobe_small=np.ones((4,roi[0,1]-roi[0,0],roi[1,1]-roi[1,0]))\n",
    "masking_operator= regpy.operators.CoordinateMask(detgrid_small, semprobe_small)\n",
    "fts_forward1 = spectroscopic_FTH(detgrid_small, delays=-delay, frequencies=freqs, masking_operator=masking_operator)"
   ]
  },
  {
   "cell_type": "markdown",
   "id": "a67308e8",
   "metadata": {},
   "source": [
    "The following calculates multi-wavelength holograms from simulated data, sets initial guess and defines the domain and codomain norms. Also the solver and stoprule (here just based on the number of iterations) are set."
   ]
  },
  {
   "cell_type": "code",
   "execution_count": null,
   "id": "3b46d54e",
   "metadata": {},
   "outputs": [],
   "source": [
    "datsfull = np.fft.fftshift(np.fft.fftn(np.fft.ifftshift(data, axes=imax), axes=imax, norm='ortho'), axes=imax)\n",
    "\n",
    "dats = datsfull[:,roi[0,0]:roi[0,1],roi[1,0]:roi[1,1]]\n",
    "initguess = fts_forward1.domain.ones()*1e-16\n",
    "h_codomain = regpy.hilbert.L2(fts_forward1.codomain)\n",
    "h_domain = regpy.hilbert.L2(fts_forward1.domain)\n",
    "setting = regpy.solvers.RegularizationSetting(op=fts_forward1, penalty=h_domain, data_fid=h_codomain)\n",
    "datsi = fts_forward1.codomain.join(*tuple(dats.astype(np.complex128)))\n",
    "\n",
    "solver = NewtonCG(setting, data=datsi, init=initguess)\n",
    "errreco = []\n",
    "stoprule = (\n",
    "    regpy.stoprules.CountIterations(max_iterations=2)\n",
    "    #  +\n",
    "    # rules.RelativeChangeData(\n",
    "    #     setting.h_codomain.norm,\n",
    "    #     dats,\n",
    "    #     1e5\n",
    "    )"
   ]
  },
  {
   "cell_type": "markdown",
   "id": "76c78540",
   "metadata": {},
   "source": [
    "The next cell is where the solver to spectrally separate the multi-wavelength holograms is used. Afterwards the reconstruction (spectrally separated holograms) are padded back to the detectorsize and Fourier transformed to get the input for the reconstruction of high-quality images."
   ]
  },
  {
   "cell_type": "code",
   "execution_count": null,
   "id": "20e526b5",
   "metadata": {},
   "outputs": [],
   "source": [
    "norm = np.linalg.norm(datsi)\n",
    "previous_reco = 0\n",
    "for reco, reco_data in solver.until(stoprule):\n",
    "    newton_step = solver.iteration_step_nr\n",
    "    erreco = []\n",
    "    erreco.append([\n",
    "        np.linalg.norm(reco-previous_reco)*delaynum/nf/norm,\n",
    "        np.linalg.norm(reco_data-datsi)/norm])\n",
    "    previous_reco = reco.copy()\n",
    "    reco_data_s = np.asarray(fts_forward1.codomain.split(reco_data))\n",
    "    print(\"Newton Step = {}\".format(newton_step))\n",
    "    print('abs. reconstruction errors step {}: {:1.4f}'.format(\n",
    "                newton_step,\n",
    "                np.linalg.norm(reco_data_s-dats)/np.linalg.norm(dats)))\n",
    "    \n",
    "    fig= plt.figure(figsize=(4.7,6),layout='constrained')\n",
    "    subfigs = fig.subfigures(2,1, height_ratios=[1,2])\n",
    "    axs1 = subfigs[0].subplots(1,1, sharex=True, sharey=True)\n",
    "    subfigs[0].suptitle('Hologram')\n",
    "    subfigs[0].supxlabel('$p_{i,x}$')\n",
    "    subfigs[0].supylabel('$p_{i,y}$')\n",
    "    axs1.imshow(np.sum(np.abs(dats),axis=0)/np.sum(np.abs(dats),axis=0).max())\n",
    "    axs = subfigs[1].subplots(2,2, sharex=True, sharey=True)\n",
    "    subfigs[1].suptitle('Spectral components (abs)')\n",
    "\n",
    "    for (ax, recocom, wavel) in zip(axs.flatten(),reco, wls):\n",
    "        ax.set_title('$\\\\lambda$ = {:1.1f}nm'.format(1e9*wavel))\n",
    "        im = ax.imshow(np.abs(recocom)/np.abs(recocom).max())"
   ]
  },
  {
   "cell_type": "code",
   "execution_count": null,
   "id": "4a67be0a",
   "metadata": {},
   "outputs": [],
   "source": [
    "reco_pad = np.pad(reco,((0,0),(roi[0][0], detectorsize[0]-roi[0][1]),(roi[1][0], detectorsize[1]-roi[1][1])) )\n",
    "dats2 = np.fft.fftshift(np.fft.fftn(np.fft.ifftshift(reco_pad, axes=imax), axes=imax, norm='ortho'), axes=imax)\n",
    "referftshifted = np.fft.fftshift(\n",
    "                np.fft.fftn(\n",
    "                    np.fft.ifftshift(\n",
    "                        ref_beams_full,\n",
    "                        axes=imax\n",
    "                        ),\n",
    "                    axes=imax,\n",
    "                    norm='ortho'\n",
    "                    ),\n",
    "                axes=imax)\n",
    "proj = regpy.operators.CoordinateMask(detgrid, maskprobe)\n",
    "embedding = proj.adjoint"
   ]
  },
  {
   "cell_type": "markdown",
   "id": "6e45b685",
   "metadata": {},
   "source": [
    "### Define forward operator used  to reconstruct high-quality images\n",
    "In the follwing the high resolution reconstruction is prepared. First, the forward model is defined and the operator is constructed. Then the domain and codomain of the operator are set to have the L2 Norm."
   ]
  },
  {
   "cell_type": "code",
   "execution_count": null,
   "id": "84476f4a",
   "metadata": {},
   "outputs": [],
   "source": [
    "def deconvrecoreffixed(domain, reference:np.ndarray, freqaxis = 0, imageaxes=(-2,-1), \n",
    "                            withifft = False,\n",
    "                            paddingop = None#, mask2=None,\n",
    "                            ):\n",
    "    \n",
    "    assert domain.is_complex\n",
    "    assert not np.any(np.isin(imageaxes, freqaxis))\n",
    "    \n",
    "    padding = paddingop\n",
    "\n",
    "    prop = regpy.operators.FourierTransform(padding.codomain, centered=True, axes=imageaxes)\n",
    "    combine_ref_probe = regpy.operators.PtwMultiplication(prop.codomain,reference.conj())\n",
    "    if withifft is True:\n",
    "        ifftop = regpy.operators.FourierTransform(combine_ref_probe.codomain, centered=True, axes=(-2,-1)).adjoint\n",
    "        \n",
    "        return ifftop * combine_ref_probe * prop * padding\n",
    "    else:\n",
    "        return combine_ref_probe * prop * padding"
   ]
  },
  {
   "cell_type": "code",
   "execution_count": null,
   "id": "95e80909",
   "metadata": {},
   "outputs": [],
   "source": [
    "recoop = deconvrecoreffixed(detgrid3, referftshifted,\n",
    "                paddingop= embedding,\n",
    "                withifft = False\n",
    "                )"
   ]
  },
  {
   "cell_type": "code",
   "execution_count": null,
   "id": "4c802a23",
   "metadata": {},
   "outputs": [],
   "source": [
    "if type(recoop.codomain) is not regpy.vecsps.UniformGridFcts:\n",
    "\n",
    "    if len(delay)>1:\n",
    "        h_codomain2 = regpy.hilbert.L2(recoop.codomain[0])\n",
    "    else: \n",
    "        h_codomain2 = regpy.hilbert.L2(recoop.codomain)\n",
    "    for ind, grid in enumerate(recoop.codomain):\n",
    "        if ind > 0:\n",
    "            h_codomain2 = h_codomain2 + regpy.hilbert.L2(grid)\n",
    "else:\n",
    "    h_codomain2 = regpy.hilbert.L2(recoop.codomain)\n",
    "\n",
    "if type(recoop.domain) is not regpy.vecsps.UniformGridFcts:\n",
    "    if recoop.domain.ndim > 1:\n",
    "        h_domain2 = regpy.hilbert.L2(recoop.domain[0])\n",
    "        for ind, grid in enumerate(recoop.domain):\n",
    "            if ind > 0:\n",
    "                h_domain2 = h_domain2 + regpy.hilbert.L2(grid)\n",
    "    else:\n",
    "        h_domain2 = regpy.hilbert.L2(recoop.domain)\n",
    "else:\n",
    "        h_domain2 = regpy.hilbert.L2(recoop.domain)\n"
   ]
  },
  {
   "cell_type": "code",
   "execution_count": null,
   "id": "53d271b1",
   "metadata": {},
   "outputs": [],
   "source": [
    "initguess2 = recoop.domain.zeros()\n",
    "initguess_split = embedding(initguess2)\n",
    "setting2 = regpy.solvers.RegularizationSetting(op=recoop, penalty=h_domain2, data_fid=h_codomain2)"
   ]
  },
  {
   "cell_type": "markdown",
   "id": "8de77b06",
   "metadata": {},
   "source": [
    "The solver for the high-resolution reconstruction and a stoprule need to be defined. The stoprule in this example is again only determined by the number of iterations.\n",
    "Then the solver is run and the current reconstruction and the difference between exemplary input data and reconstructed data is shown."
   ]
  },
  {
   "cell_type": "code",
   "execution_count": null,
   "id": "93eb1416",
   "metadata": {},
   "outputs": [],
   "source": [
    "#%% solver params\n",
    "NewtonCG_cgmaxit = 100 #max interations per newton step\n",
    "NewtonCG_rho = 0.85 \n",
    "max_its = 20 #max number of newton steps\n",
    "\n",
    "\n",
    "solver2 = NewtonCG(\n",
    "            setting2, dats2, init=initguess2,\n",
    "            cgmaxit=NewtonCG_cgmaxit, rho=NewtonCG_rho,\n",
    "            )\n",
    "errreco2 = []\n",
    "stoprule2 = (\n",
    "    regpy.stoprules.CountIterations(max_iterations=max_its)\n",
    ")"
   ]
  },
  {
   "cell_type": "code",
   "execution_count": null,
   "id": "e9696590",
   "metadata": {},
   "outputs": [],
   "source": [
    "#%%\n",
    "#%matplotlib widget\n",
    "\n",
    "plt.ioff()\n",
    "\n",
    "errreco2.append([1, #np.linalg.norm(dats2-initguess_split)/np.linalg.norm(dats2),\n",
    "                 np.linalg.norm(probe_beams_full-initguess_split)/np.linalg.norm(probe_beams_full)]\n",
    "        )\n",
    "## error plot\n",
    "figu, ax1 = plt.subplots(1,1, figsize=(4,3),layout='constrained')\n",
    "figuid = display.display(\"\",display_id=True)\n",
    "ax1.set_ylabel('relative error')\n",
    "ax1.set_xlabel('Interation step')  \n",
    "ax1.set_yscale('log')\n",
    "errline1, = ax1.plot(np.asarray(errreco2)[:,0], label = 'Reconstruction, real part')\n",
    "errline2, = ax1.plot(np.asarray(errreco2)[:,1], label = 'Diffraction pattern')\n",
    "ax1.legend()\n",
    "## curr. reconstruction plot\n",
    "fix, axs = plt.subplots(2,2, sharex=True, sharey=True, figsize=(6,4),layout='constrained',gridspec_kw={'wspace':0.1})\n",
    "fixid = display.display(\"\",display_id=True)\n",
    "fix.get_layout_engine().set(rect=(0, 0, 0.95, 1))\n",
    "fix.suptitle('Reconstruction (abs)')\n",
    "fix.supxlabel('$p_{i,x}$')\n",
    "fix.supylabel('$p_{i,y}$')\n",
    "axs[0][0].set_title('Wavelength = {:1.1f}nm'.format(1e9*wls[0]))\n",
    "axs[0][0].set_xlim(roi[1][0],roi[1][1]-150)\n",
    "axs[0][0].set_ylim(roi[0][1]-100,roi[0][0]+50)\n",
    "ims = []\n",
    "cbs = []\n",
    "for (ax, recocom, wavel, harm,cmi) in zip(axs.flatten(),initguess_split, wls[:], harms [:],cmaps):\n",
    "    ax.set_title('$\\\\lambda_{{{}}}$ = {:1.1f}nm'.format(harm,1e9*wavel))\n",
    "    imi = ax.imshow(np.abs(recocom), cmap=cmi)\n",
    "    ims.append(imi)\n",
    "    divider = make_axes_locatable(ax)\n",
    "    cax = divider.append_axes(\"right\", size=\"5%\",pad=0.1)\n",
    "    cbar = fix.colorbar(imi, cax=cax)\n",
    "    cbs.append(cbar)\n",
    "\n",
    "## data vs. curr. reconstructed data\n",
    "fig2, axs2 = plt.subplots(1, 3, sharex=True, sharey=True, figsize=(8, 4),layout='constrained')\n",
    "fig2id = display.display(\"\",display_id=True)\n",
    "im = axs2[0].imshow(np.abs(dats2[3]), interpolation='none',norm=LogNorm())\n",
    "fig2.colorbar(im, ax=axs2[0], location = 'bottom')\n",
    "imdats = axs2[1].imshow(np.zeros(dats2[3].shape)+1e-16, interpolation='none',norm=LogNorm())\n",
    "axs2[1].set_title('reco. data [3] step {}'.format(0))\n",
    "diffim = axs2[2].imshow(np.abs(dats2[3])-np.zeros(dats2[3].shape), interpolation='none',norm=LogNorm())\n",
    "axs2[2].set_title('Difference step {}'.format(0))\n",
    "cbar6 = fig2.colorbar(imdats, ax=axs2[1], location = 'bottom')\n",
    "cbar5 = fig2.colorbar(diffim, ax=axs2[2], location = 'bottom')\n",
    "axs2[0].set_title('Data [3]')\n",
    "\n",
    "print('solver start')\n",
    "for reco2, reco_data2 in solver2.until(stoprule2):\n",
    "    newton_step = solver2.iteration_step_nr\n",
    "    ereco = embedding(reco2)\n",
    "    errreco2.append([np.linalg.norm(dats2-reco_data2)/np.linalg.norm(dats2), \n",
    "                    np.linalg.norm(probe_beams_full-ereco)/np.linalg.norm(probe_beams_full)]\n",
    "        )\n",
    "    print('abs. reconstruction errors step {}: {:1.4f}'.format(\n",
    "        newton_step,\n",
    "        np.linalg.norm(reco_data2-dats2)/np.linalg.norm(dats2)))\n",
    "    # Plot results\n",
    "    if newton_step % 1 == 0 or stoprule2.triggered:\n",
    "        updatelineplot(figuid,figu, ax1,(errline1,errline2), (np.asarray(errreco2)[:,0],np.asarray(errreco2)[:,1]))\n",
    "        updateimages(fixid,fix, axs, ims, ereco, cbs, newton_step)\n",
    "        reco_data_comp = reco_data2\n",
    "        updatedataimages(fig2id,fig2, axs2, (imdats,diffim), reco_data_comp, (cbar6, cbar5), newton_step,dats2)"
   ]
  },
  {
   "cell_type": "code",
   "execution_count": null,
   "id": "4f9fa25a",
   "metadata": {},
   "outputs": [],
   "source": [
    "#%%\n",
    "plt.ioff()\n",
    "fig = plt.figure(layout='constrained', \n",
    "                 figsize = (1.5*4.3,1.1*4.3)\n",
    "                 )\n",
    "sfig,sfig2 = fig.subfigures(1,2, width_ratios=(1,0.414),\n",
    "                 wspace=0.0)\n",
    "axsl = sfig.subplots(4,2, sharex='col', sharey=True, \n",
    "                          #figsize=(1*optica_colwidth,optica_colwidth*0.98),\n",
    "                           width_ratios=[1,0.5],#layout='constrained', \n",
    "                           gridspec_kw={'wspace':0.0,\n",
    "                                        'hspace':0.0\n",
    "                          }\n",
    "                          )\n",
    "sfig.text(0.68,0.96,'Reconstruction', fontsize ='large')\n",
    "sfig.suptitle('Input', fontsize ='large',ha='right')\n",
    "fig.supxlabel('$\\\\mathrm{x\\'}_\\\\mathrm{x}$ [pixel]',fontsize='medium')\n",
    "fig.supylabel('$\\\\mathrm{x\\'}_\\\\mathrm{y}$ [pixel]',fontsize='medium')\n",
    "axsl[0][0].set_xlim(475,int(roi[1][1]-350/2))\n",
    "axsl[0][1].set_xlim(int(roi[1][0]),int(roi[1][1]-350/2))\n",
    "axsl[0][1].set_ylim(int(roi[0][1]-100),int(roi[0][0]+50))\n",
    "\n",
    "for (axi, recocom, wavel, harm, cm) in zip(axsl[:,0].flatten(),(ref_beams_full+probe_beams_full), wls, harms,cmaps):\n",
    "    axi.set_title('$\\\\lambda_{{{}}}$ = {:1.1f}nm'.format(harm,1e9*wavel), \n",
    "                  fontsize = 'medium')\n",
    "\n",
    "    im = axi.imshow(np.abs(recocom), cmap=cm, interpolation='None')\n",
    "    cax = axi.inset_axes([1.015,0,0.05,1])\n",
    "    cbar = sfig.colorbar(im, cax=cax)\n",
    "    \n",
    "    cbar.ax.tick_params(axis='y', direction='out',which='both')\n",
    "    cbar.ax.yaxis.set_offset_position('left')\n",
    "for (axo, recocom, wavel, harm, cm) in zip(axsl[:,1].flatten(),ereco, wls, harms,cmaps):\n",
    "    im = axo.imshow(np.abs(recocom), cmap=cm, interpolation='None')\n",
    "    cax = axo.inset_axes([1.015,0,0.05,1])\n",
    "    cbar = sfig.colorbar(im, cax=cax)\n",
    "    \n",
    "    cbar.ax.tick_params(axis='y', direction='out',which='both')\n",
    "    cbar.ax.yaxis.set_offset_position('left')\n",
    "\n",
    "axsr = sfig2.subplots(4,1, sharex=True, sharey=True, \n",
    "                          gridspec_kw={#'wspace':0.14, \n",
    "                                         'hspace':0\n",
    "                          }\n",
    "                          )\n",
    "sfig2.suptitle('Sim. Hologram', fontsize ='large'\n",
    "        , ha='center', \n",
    "        # va='center_baseline'\n",
    "         )\n",
    "axsr[0].set_xlim(int(roi[1][0]),int(roi[1][1]-350/2))\n",
    "axsr[0].set_ylim(int(roi[0][1]-100),int(roi[0][0]+50))\n",
    "\n",
    "for kk,(ax, recocom,datsio, dela) in enumerate(zip(axsr.flatten(),datsfull, dats, delay)):\n",
    "    ax.set_title('$\\\\tau_{{{}}}$ = {:1.1f}fs'.format(kk,1e15*dela),\n",
    "                 fontsize='medium')\n",
    "    vma=np.abs(datsio).max()\n",
    "    vmi = np.abs(datsio).min()\n",
    "    im = ax.imshow(np.abs(recocom), cmap='Greys',vmax=vma,vmin =vmi, interpolation='None')\n",
    "    cax = ax.inset_axes([1.015,0,0.05,1])\n",
    "    \n",
    "    cbar = sfig2.colorbar(im, cax=cax)\n",
    "    \n",
    "    cbar.ax.tick_params(axis='y', direction='out',which='both')\n",
    "\n",
    "plt.show(block=False)\n"
   ]
  },
  {
   "cell_type": "code",
   "execution_count": null,
   "id": "f5b97e04",
   "metadata": {},
   "outputs": [],
   "source": [
    "fig, axs = plt.subplots(3,3, figsize = (7,4.5),layout = 'constrained', sharey= True, sharex = True)\n",
    "axs[0][0].set_xlim(int(roi[1][0]),int(roi[1][1]-350/2))\n",
    "axs[0][0].set_ylim(int(roi[0][1]-100),int(roi[0][0]+50))\n",
    "fig.supxlabel('$\\\\mathrm{x\\'}_\\\\mathrm{x}$ [pixel]',fontsize='medium')\n",
    "fig.supylabel('$\\\\mathrm{x\\'}_\\\\mathrm{y}$ [pixel]',fontsize='medium')\n",
    "for (axi, recocom, wavel, harm, cm) in zip(axs[:,0].flatten(),(probe_beams_full), wls, harms,cmaps):\n",
    "    axi.set_title('$\\\\lambda_{{{}}}$ = {:1.1f}nm'.format(harm,1e9*wavel), \n",
    "                  fontsize = 'medium')\n",
    "\n",
    "    im = axi.imshow(np.abs(recocom), cmap=cm, interpolation='None')\n",
    "    cax = axi.inset_axes([1.015,0,0.05,1])\n",
    "    cbar = fig.colorbar(im, cax=cax)\n",
    "    \n",
    "    cbar.ax.tick_params(axis='y', direction='out',which='both')\n",
    "    cbar.ax.yaxis.set_offset_position('left')\n",
    "for (axo, recocom, wavel, harm, cm) in zip(axs[:,1].flatten(),ereco, wls, harms,cmaps):\n",
    "    im = axo.imshow(np.abs(recocom), cmap=cm, interpolation='None')\n",
    "    cax = axo.inset_axes([1.015,0,0.05,1])\n",
    "    cbar = fig.colorbar(im, cax=cax)\n",
    "    \n",
    "    cbar.ax.tick_params(axis='y', direction='out',which='both')\n",
    "    cbar.ax.yaxis.set_offset_position('left')\n",
    "for (axo, recocom, wavel, harm, cm) in zip(axs[:,2].flatten(),probe_beams_full-ereco, wls, harms,cmaps):\n",
    "    im = axo.imshow(np.abs(recocom), cmap=cm, interpolation='None')\n",
    "    cax = axo.inset_axes([1.015,0,0.05,1])\n",
    "    cbar = fig.colorbar(im, cax=cax)\n",
    "    \n",
    "    cbar.ax.tick_params(axis='y', direction='out',which='both')\n",
    "    cbar.ax.yaxis.set_offset_position('left')\n",
    "plt.show()"
   ]
  },
  {
   "cell_type": "code",
   "execution_count": null,
   "id": "0db18887",
   "metadata": {},
   "outputs": [],
   "source": []
  }
 ],
 "metadata": {
  "kernelspec": {
   "display_name": "Python 3 (ipykernel)",
   "language": "python",
   "name": "python3"
  },
  "language_info": {
   "codemirror_mode": {
    "name": "ipython",
    "version": 3
   },
   "file_extension": ".py",
   "mimetype": "text/x-python",
   "name": "python",
   "nbconvert_exporter": "python",
   "pygments_lexer": "ipython3",
   "version": "3.10.14"
  }
 },
 "nbformat": 4,
 "nbformat_minor": 5
}
