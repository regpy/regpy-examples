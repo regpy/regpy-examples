{
 "cells": [
  {
   "cell_type": "markdown",
   "metadata": {},
   "source": [
    "# Parallel Magnetic Resonance imaging (MRI)\n",
    "\n",
    "Standard MRI is described by the Fourier transform $\\mathcal{F}$ as forward operator (here in two dimensions). \n",
    "To accelerate data acquisition, parallel MRI uses simultaneous measurements by $N$ receiver coils. This allows undersampling \n",
    "of the Fourier domain leading to speed-ups. Parallel MRI is described by the forward operator\n",
    "$$F\\left(\\begin{array}{c}\\rho \\\\ c_1\\\\ \\vdots \\\\ c_N\\end{array}\\right) \n",
    "= \\left(\\begin{array}{c}M\\cdot\\mathcal{F}(c_1 \\cdot \\rho)\\\\ \\vdots \\\\\n",
    "M\\cdot\\mathcal{F}(c_N \\cdot \\rho)\\end{array}\\right).$$\n",
    "Here $\\rho$ describes the hydrogen density and is the main quantity of interest. To take into account effects such as motion artifacts, $\\rho$ has to be modelled as a complex-valued function. $c_1,\\dots, c_N$ describe complex-valued coil profiles, which may be assumed to be smooth. As they depend on the sample $\\rho$, they must be reconstructed together with $\\rho$. $M$ is a 0-1-mask describing the undersampling pattern.  "
   ]
  },
  {
   "cell_type": "markdown",
   "metadata": {},
   "source": [
    "## Import of auxiliary packages and defining logging\n",
    "\n",
    "We will `numpy` arrays to model the complex functions and rely on `matplotlib` to plot. `loadmat` from `scipy.io` is required to import the data."
   ]
  },
  {
   "cell_type": "code",
   "execution_count": null,
   "metadata": {},
   "outputs": [],
   "source": [
    "import logging\n",
    "\n",
    "import matplotlib.pyplot as plt\n",
    "import matplotlib as mplib\n",
    "from matplotlib.colors import hsv_to_rgb\n",
    "import numpy as np\n",
    "from scipy.io import loadmat\n",
    "\n",
    "logging.basicConfig(\n",
    "    level=logging.INFO,\n",
    "    format='%(asctime)s %(levelname)s %(name)-40s :: %(message)s'\n",
    ")"
   ]
  },
  {
   "cell_type": "markdown",
   "metadata": {},
   "source": [
    "## Complex to rgb conversion\n",
    "\n",
    "Converts array of complex numbers into array of RGB color values for plotting. The hue corresponds to the argument.\n",
    "The brighntess corresponds to the absolute value.  \n",
    "\n",
    "`Parameters`\n",
    ">z : `numpy.ndarray`\n",
    ">array of complex numbers\n",
    "\n",
    "`Returns`\n",
    "> `numpy.ndarray`\n",
    "> Array that contains three values for each value in z containing the RGB representation of this value."
   ]
  },
  {
   "cell_type": "code",
   "execution_count": null,
   "metadata": {},
   "outputs": [],
   "source": [
    "def complex_to_rgb(z):\n",
    "    HSV = np.dstack( (np.mod(np.angle(z)/(2.*np.pi),1), 1.0*np.ones(z.shape), np.abs(z)/np.max((np.abs(z[:]))), ))\n",
    "    return hsv_to_rgb(HSV)"
   ]
  },
  {
   "cell_type": "markdown",
   "metadata": {},
   "source": [
    "## Load data from file and estimate sampling pattern\n",
    "\n",
    "First this code will import the data from the data file and normalizes the data.\n",
    "\n",
    "Using the data we can estimate the sampling pattern using one of our method. This estimation relies on the approach that if some measurement point is zero in all coil profiles it is assumed to be outside of the sampling pattern. This method has a very low probability of failing, especially non-integer data."
   ]
  },
  {
   "cell_type": "code",
   "execution_count": null,
   "metadata": {},
   "outputs": [],
   "source": [
    "from examples.mri.mri import  estimate_sampling_pattern\n",
    "\n",
    "data = loadmat('data/ksp3x2.mat')['Y']\n",
    "\n",
    "data = np.transpose(data,(2,0,1))*(100/np.linalg.norm(data))\n",
    "\n",
    "# normalize and transpose data \n",
    "nrcoils, n1, n2 = data.shape\n",
    "\n",
    "mask = estimate_sampling_pattern(data)\n",
    "plt.imshow(mask.T); plt.title('Undersampling pattern of data')"
   ]
  },
  {
   "cell_type": "markdown",
   "metadata": {},
   "source": [
    "## Set up forward operator\n",
    "\n",
    "Using the from the data extracted dimensions define the grid for the functions of the densities.\n",
    "\n",
    "The full MRI operator is then constructed on the grid with the number of coils extracted from the data. This is done by the auxiliary method `parallel_mri` that constructs the operator as a composition of the implemented coil multiplier and a Fourier transform:\n",
    "\n",
    "```\n",
    "def parallel_mri(grid, ncoils, centered=False):\n",
    "    cmult = CoilMult(grid, ncoils)\n",
    "    ft = FourierTransform(cmult.codomain, axes=range(1, cmult.codomain.ndim), centered=centered)\n",
    "    return ft * cmult\n",
    "```\n",
    "\n",
    "Using the sampling mask extracted from the data define the sampling operator as a point-wise multiplication with the mask. \n",
    "\n",
    "As a last step we define a sobolev smoothing that we be used before the full MRI operator. Finally, the parallel MRI operator can be defined as the simple composition of the before constructed operators.  "
   ]
  },
  {
   "cell_type": "code",
   "execution_count": null,
   "metadata": {},
   "outputs": [],
   "source": [
    "from examples.mri.mri import  parallel_mri, sobolev_smoother\n",
    "from regpy.operators import PtwMultiplication\n",
    "from regpy.vecsps import UniformGridFcts\n",
    "\n",
    "grid = UniformGridFcts((-1, 1, n1), (-1, 1, n2), dtype=complex)\n",
    "\n",
    "full_mri_op = parallel_mri(\n",
    "    grid=grid, \n",
    "    ncoils=nrcoils,\n",
    "    centered=True\n",
    ")\n",
    "\n",
    "sampling = PtwMultiplication(full_mri_op.codomain,(1.+0j)* mask)\n",
    "\n",
    "sobolev_index = 32\n",
    "smoother = sobolev_smoother(full_mri_op.domain, sobolev_index, factor=220.)\n",
    "\n",
    "parallel_mri_op = sampling * full_mri_op * smoother"
   ]
  },
  {
   "cell_type": "markdown",
   "metadata": {},
   "source": [
    "## The regularization process\n",
    "### Set up initial guess\n",
    "\n",
    "We use constant density and zero coil profiles as initial guess. Since the domain is a direct sum we can of the density and the coil profiles we can use a splitting to extract the density and separately set this to be constant one. "
   ]
  },
  {
   "cell_type": "code",
   "execution_count": null,
   "metadata": {},
   "outputs": [],
   "source": [
    "init = parallel_mri_op.domain.zeros()\n",
    "init_density, _ = parallel_mri_op.domain.split(init)\n",
    "init_density[...] = 1"
   ]
  },
  {
   "cell_type": "markdown",
   "metadata": {},
   "source": [
    "### Set up regularization method\n",
    "\n",
    "Before we can define a solver we define a regularization setting using $L^2$ penalty and data-fidelity. \n",
    "\n",
    "As this problem is a non-linear problem we rely on an iteratively regularized Gauss-Newton solver to regularize this problem.  \n",
    "\n",
    "Since the solver should not require many iterations we can use as a stopping rule an iteration count of 5."
   ]
  },
  {
   "cell_type": "code",
   "execution_count": null,
   "metadata": {},
   "outputs": [],
   "source": [
    "from regpy.solvers import RegularizationSetting\n",
    "from regpy.hilbert import L2\n",
    "from regpy.solvers.nonlinear.irgnm import IrgnmCG\n",
    "from regpy.stoprules import CountIterations\n",
    "\n",
    "setting = RegularizationSetting(op=parallel_mri_op, penalty=L2, data_fid=L2)\n",
    "\n",
    "solver = IrgnmCG(\n",
    "    setting=setting,\n",
    "    data=data,\n",
    "    regpar=1,\n",
    "    regpar_step=1/3.,\n",
    "    init=init\n",
    ")\n",
    "\n",
    "stoprule = CountIterations(max_iterations=5) "
   ]
  },
  {
   "cell_type": "markdown",
   "metadata": {},
   "source": [
    "### Run solver and plot iterates\n",
    "\n",
    "To be able to plot the iterations steps we use the `while_` method from the solvers that yields the iterates in each step.\n",
    "\n",
    "In the plots you can see on the left side the density function represented as a greyscale image and on the right you see the complex coil sensitivities plotted in a rgb style mapping the complex to rgb using the above defined `complex_to_rgb` method. "
   ]
  },
  {
   "cell_type": "code",
   "execution_count": null,
   "metadata": {},
   "outputs": [],
   "source": [
    "for reco, reco_data in solver.while_(stoprule):\n",
    "    rho, coils = smoother.codomain.split(smoother(reco))\n",
    "    #rho, coils = normalize(rho,coils)\n",
    "\n",
    "    fig = plt.figure(figsize = (15,9))\n",
    "\n",
    "    gs = fig.add_gridspec(3,7)\n",
    "    axs = [fig.add_subplot(gs[0:3, 0:3])]\n",
    "    axs[0].imshow(np.abs(rho),cmap=mplib.colormaps['Greys_r'],origin='lower')\n",
    "    axs[0].xaxis.set_ticklabels([])\n",
    "    axs[0].yaxis.set_ticklabels([])\n",
    "    for j in range(3):\n",
    "        for k in range(3,7):\n",
    "            axs.append(fig.add_subplot(gs[j,k]))\n",
    "            axs[-1].xaxis.set_ticklabels([])\n",
    "            axs[-1].yaxis.set_ticklabels([])\n",
    "    for j in range(nrcoils):\n",
    "        axs[1+j].imshow(complex_to_rgb(coils[j,:,:]),origin='lower')\n",
    "    plt.show()"
   ]
  }
 ],
 "metadata": {
  "kernelspec": {
   "display_name": "3.12.3",
   "language": "python",
   "name": "python3"
  },
  "language_info": {
   "codemirror_mode": {
    "name": "ipython",
    "version": 3
   },
   "file_extension": ".py",
   "mimetype": "text/x-python",
   "name": "python",
   "nbconvert_exporter": "python",
   "pygments_lexer": "ipython3",
   "version": "3.12.3"
  }
 },
 "nbformat": 4,
 "nbformat_minor": 2
}
