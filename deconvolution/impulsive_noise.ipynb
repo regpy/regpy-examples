{
 "cells": [
  {
   "cell_type": "code",
   "execution_count": null,
   "metadata": {},
   "outputs": [],
   "source": [
    "import numpy as np\n",
    "import matplotlib.pyplot as plt\n",
    "from regpy.operators.convolution import ConvolutionOperator, GaussianBlur, ExponentialConvolution\n",
    "from regpy.vecsps import UniformGridFcts\n",
    "from regpy.solvers import TikhonovRegularizationSetting, RegularizationSetting, RegSolver\n",
    "from regpy.solvers.linear.semismoothNewton import SemismoothNewton_bilateral, SemismoothNewton_nonneg, SemismoothNewtonAlphaGrid\n",
    "from regpy.solvers.linear.tikhonov import TikhonovCG\n",
    "from regpy.solvers.linear.primal_dual import PDHG\n",
    "from regpy.solvers.linear.proximal_gradient import FISTA\n",
    "import regpy.functionals as fct\n",
    "from regpy.hilbert import L2\n",
    "from regpy.stoprules import CountIterations\n",
    "import logging"
   ]
  },
  {
   "cell_type": "markdown",
   "metadata": {},
   "source": [
    "# Deconvolution with impulsive noise\n",
    "We set up a 1D periodic deconvolution problem with impulsive noise. \n",
    "If we solve this problem by Tikhonov regularization with a quadratic data fidelity term, then the reconstruction is dominated by the effects of this impulsive noise. "
   ]
  },
  {
   "cell_type": "code",
   "execution_count": null,
   "metadata": {},
   "outputs": [],
   "source": [
    "n = 256\n",
    "sigma = 0.002\n",
    "alpha = 0.1\n",
    "grid = UniformGridFcts((-1,1,n),periodic=True)\n",
    "conv = GaussianBlur(grid,kernel_width=0.05)\n",
    "\n",
    "x = grid.coords[0]\n",
    "fdag = np.maximum(0,1-3*np.abs(x))\n",
    "gobs = conv(fdag)\n",
    "\n",
    "for j in range(5):\n",
    "    k = np.random.randint(n)\n",
    "    gobs[k] = np.random.randint(50)\n",
    "\n",
    "setting = RegularizationSetting(conv,L2,L2)\n",
    "solver = TikhonovCG(setting=setting, data = gobs, regpar = alpha,reltolx=1e-6)\n",
    "fal,_ = solver.run()\n",
    "\n",
    "fig, (ax1,ax2) =plt.subplots(1,2)\n",
    "ax1.plot(x,gobs)\n",
    "ax2.plot(x,fal,label='Tikh. sol')\n",
    "ax2.plot(x,fdag,label='true')\n",
    "ax2.legend()"
   ]
  },
  {
   "cell_type": "markdown",
   "metadata": {},
   "source": [
    "# setting with Huber data fidelity term\n",
    "We now set up a generalized Tikhonov regularization setting\n",
    "$$\n",
    "\\hat{f} \\in \\mathrm{argmin}_f\\left[\\frac{1}{\\alpha}H_{\\sigma}(Tf-g^{\\mathrm{obs}})+\\|f\\|^2\\right]    \n",
    "$$\n",
    "where the Huber data fidelity term $H_{\\sigma}$ is quadratic on coordinates in $[-\\sigma,\\sigma]$ and $|\\cdot|-\\sigma/2$ for large coordinates.\n",
    "\n",
    "Moreover, we set up three solvers for this setting:\n",
    "- FISTA\n",
    "- Primal-Dual Hybrid Gradient (Chambolle-Pock) method\n",
    "- Semismooth Newton method\n"
   ]
  },
  {
   "cell_type": "code",
   "execution_count": null,
   "metadata": {},
   "outputs": [],
   "source": [
    "Sdat = (1./sigma)*fct.Huber(grid,sigma=sigma)\n",
    "huber_setting = TikhonovRegularizationSetting(conv,L2,Sdat,alpha,data_fid_shift=gobs)\n",
    "dual_setting = huber_setting.dualSetting()\n",
    "\n",
    "solverFISTA = FISTA(dual_setting,logging_level=logging.DEBUG)\n",
    "solverPDHG = PDHG(huber_setting,logging_level=logging.DEBUG)\n",
    "solverSS = SemismoothNewton_bilateral(dual_setting,cgpar={'reltolx':1e-6,'tol':1e-6},logging_level=logging.DEBUG)\n",
    "itPDHG = iter(solverPDHG)\n",
    "itFISTA = iter(solverFISTA)"
   ]
  },
  {
   "cell_type": "code",
   "execution_count": null,
   "metadata": {},
   "outputs": [],
   "source": [
    "from regpy.solvers.linear.admm import ADMM\n",
    "\n",
    "otf = conv.fourier_multiplier\n",
    "TikhInverse = ConvolutionOperator(grid, 1./(1.+np.abs(otf)**2))\n",
    "solverADMM = ADMM(huber_setting,gamma=1,regularizedInverse=TikhInverse,logging_level=logging.DEBUG)\n",
    "itADMM = iter(solverADMM)"
   ]
  },
  {
   "cell_type": "code",
   "execution_count": null,
   "metadata": {},
   "outputs": [],
   "source": [
    "for j in range(20):\n",
    "    f_ADMM,y_ADMM = next(itADMM)\n",
    "fig, (ax1,ax2) = plt.subplots(1,2)\n",
    "ax1.plot(f_ADMM,label = 'f_ADMM')\n",
    "ax1.legend()\n",
    "ax2.plot(y_ADMM,label='y_ADMM')\n",
    "ax2.legend()"
   ]
  },
  {
   "cell_type": "markdown",
   "metadata": {},
   "source": [
    "# FISTA\n",
    "Run this cell until the duality gap is sufficiently small. "
   ]
  },
  {
   "cell_type": "code",
   "execution_count": null,
   "metadata": {},
   "outputs": [],
   "source": [
    "for j in range(20):\n",
    "    p_FISTA,Tstar_pFISTA = next(itFISTA)\n",
    "f_FISTA = huber_setting.dualToPrimal(Tstar_pFISTA,argumentIsOperatorImage=True)\n",
    "\"\"\"\n",
    "fig, (ax1,ax2) = plt.subplots(1,2)\n",
    "ax1.plot(p_FISTA,label = 'p_FISTA')\n",
    "ax1.legend()\n",
    "ax2.plot(f_FISTA,label='f_FISTA')\n",
    "ax2.legend()\n",
    "\"\"\""
   ]
  },
  {
   "cell_type": "code",
   "execution_count": null,
   "metadata": {},
   "outputs": [],
   "source": []
  },
  {
   "cell_type": "markdown",
   "metadata": {},
   "source": [
    "# PDHG\n",
    "Run this cell until the duality gap is sufficiently small. "
   ]
  },
  {
   "cell_type": "code",
   "execution_count": null,
   "metadata": {},
   "outputs": [],
   "source": [
    "for j in range(20):\n",
    "    f_PDHG,p_PDHG = next(itPDHG)\n",
    "\"\"\"\n",
    "fig, (ax1,ax2) = plt.subplots(1,2)\n",
    "ax1.plot(p_PDHG,label = 'p_PDHG')\n",
    "ax1.legend()\n",
    "ax2.plot(f_PDHG,label='f_PDHG')\n",
    "ax2.legend()\n",
    "\"\"\"\n"
   ]
  },
  {
   "cell_type": "markdown",
   "metadata": {},
   "source": [
    "# Semismooth Newton method\n",
    "\n",
    "The method gives a solution that looks better than those of FISTA and PDHG, but the duality gap is much larger. \n",
    "(Possibly the effective regularization parameter is wrong!)"
   ]
  },
  {
   "cell_type": "code",
   "execution_count": null,
   "metadata": {},
   "outputs": [],
   "source": [
    "#p_SS,Tstar_pSS = solverSS.run(stoprule=CountIterations(50))\n",
    "#f_SS    = huber_setting.dualToPrimal(Tstar_pSS,argumentIsOperatorImage=True)\n",
    "print('SSNewton duality gap - from dual:', huber_setting.dualityGap(dual=p_SS), \n",
    "      'from primal', huber_setting.dualityGap(primal=f_SS))"
   ]
  },
  {
   "cell_type": "markdown",
   "metadata": {},
   "source": [
    "# Plot results of all methods for comparison"
   ]
  },
  {
   "cell_type": "code",
   "execution_count": null,
   "metadata": {},
   "outputs": [],
   "source": [
    "fig,((ax11,ax12,ax13),(ax21,ax22,ax23)) = plt.subplots(2,3)\n",
    "\n",
    "ax11.plot(p_FISTA,label='p FISTA'); ax11.legend()\n",
    "ax12.plot(solverPDHG.pstar,label='p PDHG');   ax12.legend()\n",
    "ax13.plot(p_SS, label = 'p_SS');     ax13.legend()\n",
    "\n",
    "ax21.plot(f_FISTA,label='f FISTA'); ax21.legend()\n",
    "ax22.plot(f_PDHG,label='f PDHG');   ax22.legend()\n",
    "ax23.plot(f_SS, label = 'f_SS');     ax23.legend()"
   ]
  }
 ],
 "metadata": {
  "kernelspec": {
   "display_name": "ngsolve",
   "language": "python",
   "name": "python3"
  },
  "language_info": {
   "codemirror_mode": {
    "name": "ipython",
    "version": 3
   },
   "file_extension": ".py",
   "mimetype": "text/x-python",
   "name": "python",
   "nbconvert_exporter": "python",
   "pygments_lexer": "ipython3",
   "version": "3.9.15"
  }
 },
 "nbformat": 4,
 "nbformat_minor": 2
}
