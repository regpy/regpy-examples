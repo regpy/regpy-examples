{
 "cells": [
  {
   "cell_type": "markdown",
   "metadata": {},
   "source": [
    "# Constrained Tikhonov regularization implemented by semismooth Newton method\n",
    "We consider the two-dimensional deconvolution problems to find a non-negative function f given data \n",
    "$$\n",
    "    d \\sim \\mathrm{Pois}(h*f)\n",
    "$$\n",
    "with a non-negative convolution kernel $h$, and $\\mathrm{Pois}$ denotes the element-wise Poisson distribution.\n",
    "\n",
    "We explore the use of the semismooth Newton method to implement constrained Tikhonov regularization \n",
    "$$\n",
    "\\hat{f} = \\mathrm{argmin}_{f\\geq 0} \\left[\\| h*f-d\\|^2_{L^2(w)} + \\alpha \\|f\\|^2_{L^2}\\right]\n",
    "$$\n",
    "with a weight $w = \\frac{1}{\\sqrt{d+1}}$. The regularization parameter $\\alpha$ is chosen by the discrepancy principle.   "
   ]
  },
  {
   "cell_type": "code",
   "execution_count": null,
   "metadata": {},
   "outputs": [],
   "source": [
    "import numpy as np\n",
    "import matplotlib.pyplot as plt\n",
    "import matplotlib as mplib \n",
    "from regpy.operators.convolution import GaussianBlur\n",
    "from regpy.vecsps import UniformGridFcts\n",
    "from regpy.solvers import RegularizationSetting\n",
    "from regpy.solvers.linear.semismoothNewton import SemismoothNewton_bilateral, SemismoothNewton_nonneg, SemismoothNewtonAlphaGrid\n",
    "from regpy.hilbert import L2\n",
    "from regpy.stoprules import CountIterations, Discrepancy\n",
    "import logging\n",
    "\n",
    "logging.basicConfig(\n",
    "    level=logging.INFO,\n",
    "    format='%(asctime)s %(levelname)s %(name)-20s :: %(message)s'\n",
    ")"
   ]
  },
  {
   "cell_type": "markdown",
   "metadata": {},
   "source": [
    "### plotting routine for comparing reconstructions and originals "
   ]
  },
  {
   "cell_type": "code",
   "execution_count": null,
   "metadata": {},
   "outputs": [],
   "source": [
    "def comparison_plot(grid,truth,reco,title_right='exact',title_left='reconstruction',residual=None):\n",
    "    plt.rcParams.update({'font.size': 22})\n",
    "    extent = [grid.axes[0][0],grid.axes[0][-1], grid.axes[1][0], grid.axes[1][-1]]\n",
    "    maxval = np.max(truth[:]); minval = np.min(truth[:])\n",
    "    mycmap = mplib.colormaps['hot']\n",
    "    mycmap.set_over((0,0,1.,1.))  # use blue as access color for large values\n",
    "    mycmap.set_under((0,1,0,1.))  # use green as access color for small values\n",
    "    if not (residual is None):\n",
    "        fig, ((ax1,ax2),(ax3,ax4)) = plt.subplots(2,2,figsize = (22,16))\n",
    "    else:\n",
    "        fig, (ax1,ax2) = plt.subplots(1,2,figsize = (22,8))\n",
    "    im1= ax1.imshow(reco.T,extent=extent,origin='lower',\n",
    "                    vmin=1.05*minval-0.05*maxval, vmax =1.05*maxval-0.05*minval,\n",
    "                    cmap=mycmap\n",
    "                    )\n",
    "    ax1.title.set_text(title_left)\n",
    "    fig.colorbar(im1,extend='both')\n",
    "    im2= ax2.imshow(truth.T,extent=extent, origin='lower',\n",
    "                    vmin=1.05*minval-0.05*maxval, vmax =1.05*maxval-0.05*minval,\n",
    "                    cmap=mycmap\n",
    "                    )\n",
    "    ax2.title.set_text(title_right)\n",
    "    fig.colorbar(im2,extend='both',orientation='vertical')\n",
    "    if not (residual is None):\n",
    "        maxv = np.max(reco[:]-truth[:])\n",
    "        im3 = ax3.imshow(truth.T-reco.T,extent=extent, origin='lower',vmin= -maxv,vmax=maxv,cmap='RdYlBu_r')\n",
    "        ax3.title.set_text('reconstruction error')\n",
    "        fig.colorbar(im3)\n",
    "\n",
    "        maxv = np.max(residual[:])\n",
    "        im4 = ax4.imshow(residual.T,extent=extent, origin='lower',vmin= -maxv,vmax=maxv,cmap='RdYlBu_r')\n",
    "        ax4.title.set_text('data residual')\n",
    "        fig.colorbar(im4)"
   ]
  },
  {
   "cell_type": "markdown",
   "metadata": {},
   "source": [
    "### test objects"
   ]
  },
  {
   "cell_type": "code",
   "execution_count": null,
   "metadata": {},
   "outputs": [],
   "source": [
    "grid = UniformGridFcts((-1, 1, 256), (-1.5, 1, 256),dtype = float, periodic = True)\n",
    "\"\"\"Space of real-valued functions on a uniform grid with rectangular pixels\"\"\"\n",
    "X = grid.coords[0]; Y = grid.coords[1]\n",
    "\"\"\"x and y coordinates.\"\"\"\n",
    "cross = 1.0*np.logical_or((abs(X)<0.01) * (abs(Y)<0.3),(abs(X)<0.3) * (abs(Y)<0.01)) \n",
    "rad = np.sqrt(X**2 + Y**2)\n",
    "ring = 1.0*np.logical_and(rad>=0.9, rad<=0.95)\n",
    "smallbox = (abs(X+0.55)<=0.05) * (abs(Y-0.55)<=0.05)\n",
    "bubbles = (1.001+np.sin(50/(X+1.3)))*np.exp(-((Y+1.25)/0.1)**2)*(X>-0.8)*(X<0.8)\n",
    "\n",
    "objects = 200*(ring + 2.0*cross + 1.5*smallbox + bubbles)\n",
    "exact_sol = objects"
   ]
  },
  {
   "cell_type": "markdown",
   "metadata": {},
   "source": [
    "### creating Poisson distributed synthetic data"
   ]
  },
  {
   "cell_type": "code",
   "execution_count": null,
   "metadata": {},
   "outputs": [],
   "source": [
    "a=0.15\n",
    "conv = GaussianBlur(grid,a,pad_amount=((16,16),(16,16)))\n",
    "\"\"\"Convolution operator \\(f\\mapsto h*f\\) for the convolution kernel \\(h(x)=\\exp(-|x|_2^2/a^2)\\).\"\"\"\n",
    "#conv = ExponentialConvolution(grid,a)\n",
    "\"\"\"Convolution operator \\(f\\mapsto h*f\\) for the convolution kernel \\(h(x)=\\exp(-|x|_1/a)\\).\"\"\"\n",
    "\n",
    "blur = conv(exact_sol)\n",
    "blur[blur<0] = 0.\n",
    "\"\"\"Simulated exact data.\"\"\"\n",
    "data = np.random.poisson(blur)\n",
    "\"\"\"Simulated measured data. The Poisson distribution occurs if photon count detectors are used.\"\"\"\n",
    "comparison_plot(grid,exact_sol,data,title_left='noisy measurement data')"
   ]
  },
  {
   "cell_type": "markdown",
   "metadata": {},
   "source": [
    "### Convergence of the semismooth Newton method\n",
    "The most appropriate method is ``SemismoothNewton_nonneg`` implementing the constraint $f\\geq 0$. The same results are obtained by \n",
    "the more general method ``SemismoothNewton_bilateral`` implementing bilateral constaints $\\psi_-\\leq f\\leq \\psi_+$ if \n",
    "$\\psi_-=0$ and $\\psi_+$ is chosen sufficiently large. \n",
    "\n",
    "``SemismoothNewton_nonneg`` allows for an early termination of the Newton iteration by an a-posteriori error estimate based on the duality gap."
   ]
  },
  {
   "cell_type": "code",
   "execution_count": null,
   "metadata": {},
   "outputs": [],
   "source": [
    "weighted_data_space = L2(grid, weights = 1./(1.+data))\n",
    "setting = RegularizationSetting(op=conv, penalty=L2, data_fid=weighted_data_space)\n",
    "alpha = 0.0001\n",
    "\n",
    "SSNewton_nn = SemismoothNewton_nonneg(setting, data, alpha, TOL = 0.01, \n",
    "                                    logging_level=logging.DEBUG, cg_logging_level=logging.INFO)\n",
    "it = iter(SSNewton_nn)"
   ]
  },
  {
   "cell_type": "markdown",
   "metadata": {},
   "source": [
    "Run this cell until no changes in the active set occur. "
   ]
  },
  {
   "cell_type": "code",
   "execution_count": null,
   "metadata": {},
   "outputs": [],
   "source": [
    "x,y = next(it)\n",
    "act= SSNewton_nn.active\n",
    "act_old = SSNewton_nn.active_old\n",
    "lam = SSNewton_nn.lam\n",
    "#act = SSNewton_bl.active_minus\n",
    "#act_old = SSNewton_bl.active_minus_old\n",
    "#lam = SSNewton_bl.lam_minus\n",
    "\n",
    "plt.rcParams.update({'font.size': 12})\n",
    "extent = [grid.axes[0][0],grid.axes[0][-1], grid.axes[1][0], grid.axes[1][-1]]\n",
    "fig, (ax1,ax2,ax3) = plt.subplots(1,3,figsize = (18,6))\n",
    "\n",
    "vmax = np.max(exact_sol)\n",
    "mycmap = mplib.colormaps['hot']\n",
    "mycmap.set_under((0,1,0,1.))\n",
    "im1= ax1.imshow(x.T,extent=extent,origin='lower',vmax=vmax,vmin = -vmax/1000,\n",
    "                    cmap= mycmap)\n",
    "fig.colorbar(im1,extend='min')\n",
    "ax1.title.set_text('reconstruction')\n",
    "\n",
    "im2 = ax2.imshow(lam.T/alpha, extent=extent,origin='lower',vmin = -vmax/1000,\n",
    "                 cmap= mycmap)\n",
    "fig.colorbar(im2,extend='min')\n",
    "ax2.title.set_text('Lagrange parameter')\n",
    "\n",
    "im3 = ax3.imshow(2/3*act.T+1/3*act_old.T, extent=extent, origin='lower',vmin=0,vmax=1,cmap= mplib.colormaps['gnuplot2'])\n",
    "ax3.title.set_text('active set')\n",
    "fig.colorbar(im3)"
   ]
  },
  {
   "cell_type": "markdown",
   "metadata": {},
   "source": [
    "### Choose $\\alpha$ by discrepancy principle\n",
    "To choose the regularization parameter $\\alpha$ in a data-driven manner, we run constrained Tikhonov regularization on a logarithmically equidistant grid of alpha-values and apply the discrepancy principle. The noise level is estimated from the data using the fact that \n",
    "expectation and variance of Poisson distributed random variables coincide."
   ]
  },
  {
   "cell_type": "code",
   "execution_count": null,
   "metadata": {},
   "outputs": [],
   "source": [
    "weighted_data_space = L2(grid, weights = 1./(1.+data))\n",
    "setting = RegularizationSetting(op=conv, penalty=L2, data_fid=weighted_data_space)\n",
    "solver = SemismoothNewtonAlphaGrid(setting, data, (1e-3,1/2), logging_level=logging.DEBUG,tol_fac = 0)\n",
    "stoprule =  (CountIterations(max_iterations=30)\n",
    "   +Discrepancy(setting.h_codomain.norm, data,\n",
    "        noiselevel=setting.h_codomain.norm(np.sqrt(data[:])), tau=1.05)\n",
    ")\n",
    "for step, [x,y] in enumerate(solver.while_(stoprule)):\n",
    "    comparison_plot(grid,exact_sol,x,title_left='reconstruction SSNewton {}'.format(step),residual = data-y)\n",
    "    plt.show()\n"
   ]
  }
 ],
 "metadata": {
  "kernelspec": {
   "display_name": "ngsolve",
   "language": "python",
   "name": "python3"
  },
  "language_info": {
   "codemirror_mode": {
    "name": "ipython",
    "version": 3
   },
   "file_extension": ".py",
   "mimetype": "text/x-python",
   "name": "python",
   "nbconvert_exporter": "python",
   "pygments_lexer": "ipython3",
   "version": "3.9.15"
  }
 },
 "nbformat": 4,
 "nbformat_minor": 2
}
