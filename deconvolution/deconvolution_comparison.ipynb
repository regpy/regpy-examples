{
 "cells": [
  {
   "cell_type": "markdown",
   "metadata": {},
   "source": [
    "# Constrained Tikhonov regularization implemented by (accelerated) forward-backward splitting\n",
    "We consider the two-dimensional deconvolution problems to find a non-negative function f given data \n",
    "$$\n",
    "    d \\sim \\mathrm{Pois}(h*f)\n",
    "$$\n",
    "with a non-negative convolution kernel $h$, and $\\mathrm{Pois}$ denotes the element-wise Poisson distribution.\n",
    "\n",
    "We explore the use of the semismooth Newton method to implement constrained Tikhonov regularization \n",
    "$$\n",
    "\\hat{f} = \\mathrm{argmin}_{f\\geq 0} \\left[\\| h*f-d\\|^2_{L^2(w)} + \\alpha \\|f\\|^2_{L^2}\\right]\n",
    "$$\n",
    "with a weight $w = \\frac{1}{\\sqrt{d+1}}$. The regularization parameter $\\alpha$ is chosen by the discrepancy principle.   "
   ]
  },
  {
   "cell_type": "code",
   "execution_count": null,
   "metadata": {},
   "outputs": [],
   "source": [
    "import numpy as np\n",
    "import matplotlib.pyplot as plt\n",
    "import matplotlib as mplib\n",
    "from regpy.operators import CoordinateMask \n",
    "from regpy.operators.convolution import ConvolutionOperator, GaussianBlur, ExponentialConvolution\n",
    "from regpy.vecsps import UniformGridFcts\n",
    "from regpy.solvers import TikhonovRegularizationSetting, RegularizationSetting\n",
    "from regpy.solvers.linear.semismoothNewton import SemismoothNewton_bilateral, SemismoothNewton_nonneg, SemismoothNewtonAlphaGrid\n",
    "from regpy.solvers.linear.proximal_gradient import ForwardBackwardSplitting, FISTA\n",
    "from regpy.solvers.linear.primal_dual import PDHG\n",
    "from regpy.hilbert import L2, HmDomain\n",
    "from regpy.stoprules import CountIterations, Discrepancy, DualityGapStopping\n",
    "from regpy.functionals import QuadraticLowerBound, QuadraticBilateralConstraints\n",
    "import logging\n",
    "from numpy.linalg import norm\n",
    "\n",
    "logging.basicConfig(\n",
    "    level=logging.INFO,\n",
    "    format='%(asctime)s %(levelname)s %(name)-20s :: %(message)s'\n",
    ")"
   ]
  },
  {
   "cell_type": "markdown",
   "metadata": {},
   "source": [
    "### plotting routine for comparing reconstructions and originals "
   ]
  },
  {
   "cell_type": "code",
   "execution_count": null,
   "metadata": {},
   "outputs": [],
   "source": [
    "def comparison_plot(grid,truth,reco,title_right='exact',title_left='reconstruction',residual=None):\n",
    "    plt.rcParams.update({'font.size': 22})\n",
    "    extent = [grid.axes[0][0],grid.axes[0][-1], grid.axes[1][0], grid.axes[1][-1]]\n",
    "    maxval = np.max(truth[:]); minval = np.min(truth[:])\n",
    "    mycmap = mplib.colormaps['hot']\n",
    "    mycmap.set_over((0,0,1.,1.))  # use blue as access color for large values\n",
    "    mycmap.set_under((0,1,0,1.))  # use green as access color for small values\n",
    "    if not (residual is None):\n",
    "        fig, ((ax1,ax2),(ax3,ax4)) = plt.subplots(2,2,figsize = (22,16))\n",
    "    else:\n",
    "        fig, (ax1,ax2) = plt.subplots(1,2,figsize = (22,8))\n",
    "    im1= ax1.imshow(reco.T,extent=extent,origin='lower',\n",
    "                    vmin=1.05*minval-0.05*maxval, vmax =1.05*maxval-0.05*minval,\n",
    "                    cmap=mycmap\n",
    "                    )\n",
    "    ax1.title.set_text(title_left)\n",
    "    fig.colorbar(im1,extend='both')\n",
    "    im2= ax2.imshow(truth.T,extent=extent, origin='lower',\n",
    "                    vmin=1.05*minval-0.05*maxval, vmax =1.05*maxval-0.05*minval,\n",
    "                    cmap=mycmap\n",
    "                    )\n",
    "    ax2.title.set_text(title_right)\n",
    "    fig.colorbar(im2,extend='both',orientation='vertical')\n",
    "    if not (residual is None):\n",
    "        maxv = np.max(reco[:]-truth[:])\n",
    "        im3 = ax3.imshow(truth.T-reco.T,extent=extent, origin='lower',vmin= -maxv,vmax=maxv,cmap='RdYlBu_r')\n",
    "        ax3.title.set_text('reconstruction error')\n",
    "        fig.colorbar(im3)\n",
    "\n",
    "        maxv = np.max(residual[:])\n",
    "        im4 = ax4.imshow(residual.T,extent=extent, origin='lower',vmin= -maxv,vmax=maxv,cmap='RdYlBu_r')\n",
    "        ax4.title.set_text('data residual')\n",
    "        fig.colorbar(im4)"
   ]
  },
  {
   "cell_type": "markdown",
   "metadata": {},
   "source": [
    "### test objects"
   ]
  },
  {
   "cell_type": "code",
   "execution_count": null,
   "metadata": {},
   "outputs": [],
   "source": [
    "grid = UniformGridFcts((-1, 1, 256), (-1.5, 1, 256),dtype = float, periodic = True)\n",
    "\"\"\"Space of real-valued functions on a uniform grid with rectangular pixels\"\"\"\n",
    "X = grid.coords[0]; Y = grid.coords[1]\n",
    "\"\"\"x and y coordinates.\"\"\"\n",
    "cross = 1.0*np.logical_or((abs(X)<0.01) * (abs(Y)<0.3),(abs(X)<0.3) * (abs(Y)<0.01)) \n",
    "rad = np.sqrt(X**2 + Y**2)\n",
    "ring = 1.0*np.logical_and(rad>=0.9, rad<=0.95)\n",
    "smallbox = (abs(X+0.55)<=0.05) * (abs(Y-0.55)<=0.05)\n",
    "bubbles = (1.001+np.sin(50/(X+1.3)))*np.exp(-((Y+1.25)/0.1)**2)*(X>-0.8)*(X<0.8)\n",
    "\n",
    "ramp = Y<=-1\n",
    "\n",
    "objects = 200*(ring + 2.0*cross + 1.5*smallbox + 2*ramp -bubbles)\n",
    "exact_sol = objects \n"
   ]
  },
  {
   "cell_type": "markdown",
   "metadata": {},
   "source": [
    "### creating Poisson distributed synthetic data"
   ]
  },
  {
   "cell_type": "code",
   "execution_count": null,
   "metadata": {},
   "outputs": [],
   "source": [
    "a=0.15\n",
    "conv =  GaussianBlur(grid,a,pad_amount=((16,16),(16,16)))\n",
    "\"\"\"Convolution operator \\(f\\mapsto h*f\\) for the convolution kernel \\(h(x)=\\exp(-|x|_2^2/a^2)\\).\"\"\"\n",
    "blur = conv(exact_sol)\n",
    "blur[blur<0] = 0.\n",
    "\"\"\"Simulated exact data.\"\"\"\n",
    "data = np.random.poisson(blur)\n",
    "\"\"\"Simulated measured data. The Poisson distribution occurs if photon count detectors are used.\"\"\"\n",
    "comparison_plot(grid,exact_sol,data,title_left='noisy measurement data')"
   ]
  },
  {
   "cell_type": "code",
   "execution_count": null,
   "metadata": {},
   "outputs": [],
   "source": [
    "weighted_data_space = L2(grid, weights = 1./(1.+data))\n",
    "setting = RegularizationSetting(op=conv, penalty=L2, data_fid=weighted_data_space)\n",
    "alpha = 0.001\n",
    "\n",
    "SSNewton_nn = SemismoothNewton_nonneg(setting, data, alpha, TOL = 0.01, \n",
    "                                    logging_level=logging.DEBUG, cg_logging_level=logging.INFO)\n",
    "it = iter(SSNewton_nn)"
   ]
  },
  {
   "cell_type": "markdown",
   "metadata": {},
   "source": [
    "# Reconstructions with one sided constraints"
   ]
  },
  {
   "cell_type": "code",
   "execution_count": null,
   "metadata": {},
   "outputs": [],
   "source": [
    "penLower = QuadraticLowerBound(grid,x0=0,lb=0)\n",
    "alpha = 1e-3\n",
    "n_iter = 400 \n",
    "settingLower = TikhonovRegularizationSetting(op=conv, penalty=penLower, data_fid = L2,data_fid_shift=data,regpar=alpha)"
   ]
  },
  {
   "cell_type": "markdown",
   "metadata": {},
   "source": [
    "### Forward-backward splitting"
   ]
  },
  {
   "cell_type": "code",
   "execution_count": null,
   "metadata": {},
   "outputs": [],
   "source": [
    "FB_solver_lb = ForwardBackwardSplitting(settingLower)\n",
    "stop_FB_lb=DualityGapStopping(FB_solver_lb,threshold = 1., max_iter=n_iter,logging_level=logging.WARNING)\n",
    "FB_solver_lb.run(stoprule=stop_FB_lb)\n",
    "\n",
    "comparison_plot(grid,exact_sol,FB_solver_lb.x,title_left='Forward-backward')"
   ]
  },
  {
   "cell_type": "markdown",
   "metadata": {},
   "source": [
    "### FISTA"
   ]
  },
  {
   "cell_type": "code",
   "execution_count": null,
   "metadata": {},
   "outputs": [],
   "source": [
    "FISTA_solver_lb = FISTA(settingLower)\n",
    "stop_FISTA_lb=DualityGapStopping(FISTA_solver_lb,threshold = 1., max_iter=n_iter,logging_level=logging.INFO)\n",
    "FISTA_solver_lb.run(stoprule=stop_FISTA_lb)\n",
    "    \n",
    "comparison_plot(grid,exact_sol,FISTA_solver_lb.x,title_left='FISTA reco')"
   ]
  },
  {
   "cell_type": "code",
   "execution_count": null,
   "metadata": {},
   "outputs": [],
   "source": [
    "PDHG_solver_lb = PDHG(settingLower)\n",
    "stop_PDHG_lb=DualityGapStopping(PDHG_solver_lb,threshold = 1., max_iter=n_iter,logging_level=logging.INFO)\n",
    "PDHG_solver_lb.run(stoprule=stop_PDHG_lb)\n",
    "\n",
    "comparison_plot(grid,exact_sol,PDHG_solver_lb.x, title_left='PDHG reco')"
   ]
  },
  {
   "cell_type": "code",
   "execution_count": null,
   "metadata": {},
   "outputs": [],
   "source": [
    "plt.semilogy(stop_FB_lb.gap_stat,label='ForwardBackward')\n",
    "plt.semilogy(stop_FISTA_lb.gap_stat,label='FISTA')\n",
    "plt.semilogy(stop_PDHG_lb.gap_stat,label='PDHG')\n",
    "plt.legend()\n",
    "plt.xlabel('it. step'); plt.ylabel('duality gap')\n",
    "plt.title('convergence for nonnegativity constraint')"
   ]
  },
  {
   "cell_type": "markdown",
   "metadata": {},
   "source": [
    "# Reconstructions for bilateral constraints"
   ]
  },
  {
   "cell_type": "markdown",
   "metadata": {},
   "source": [
    "### define setting"
   ]
  },
  {
   "cell_type": "code",
   "execution_count": null,
   "metadata": {},
   "outputs": [],
   "source": [
    "pen = QuadraticBilateralConstraints(grid,lb=0, ub=400,eps=1e-14)\n",
    "alpha = 1e-4\n",
    "n_iter = 1000 \n",
    "settingBilateral = TikhonovRegularizationSetting(op=conv, penalty=pen, data_fid = weighted_data_space,data_fid_shift=data,regpar=alpha)"
   ]
  },
  {
   "cell_type": "markdown",
   "metadata": {},
   "source": [
    "### Forward-backward splitting"
   ]
  },
  {
   "cell_type": "code",
   "execution_count": null,
   "metadata": {},
   "outputs": [],
   "source": [
    "FB_solver_bil = ForwardBackwardSplitting(settingBilateral)\n",
    "stop_FB_bil = DualityGapStopping(FB_solver_bil,threshold = 1., max_iter=n_iter,logging_level=logging.INFO)\n",
    "FB_solver_bil.run(stoprule=stop_FB_bil)\n",
    "\n",
    "comparison_plot(grid,exact_sol,FB_solver_bil.x,title_left='Forward-backward')"
   ]
  },
  {
   "cell_type": "code",
   "execution_count": null,
   "metadata": {},
   "outputs": [],
   "source": [
    "FISTA_solver_bil = FISTA(settingBilateral)\n",
    "stop_FISTA_bil = DualityGapStopping(FISTA_solver_bil,threshold = 1., max_iter=n_iter,logging_level=logging.INFO)\n",
    "gap_FISTA_bil = np.zeros((stop_FISTA_bil.max_iter+1,))\n",
    "gap_FISTA_bil[0] = FISTA_solver_bil.gap\n",
    "for step_nr, (x,y)  in enumerate(FISTA_solver_bil.while_(stop_FISTA_bil)):\n",
    "    gap_FISTA_bil[step_nr+1] = FISTA_solver_bil.gap\n",
    "comparison_plot(grid,exact_sol,x,title_left='FISTA reco')"
   ]
  },
  {
   "cell_type": "markdown",
   "metadata": {},
   "source": [
    "### Primal-dual hybrid gradient (Chambolle-Pock) methods"
   ]
  },
  {
   "cell_type": "code",
   "execution_count": null,
   "metadata": {},
   "outputs": [],
   "source": [
    "PDHG_solver_bil = PDHG(settingBilateral)\n",
    "stop_PDHG_bil = DualityGapStopping(PDHG_solver_bil,threshold = 1., max_iter=n_iter,logging_level=logging.INFO)\n",
    "PDHG_solver_bil.run(stoprule=stop_PDHG_bil)\n",
    "\n",
    "comparison_plot(grid,exact_sol,PDHG_solver_bil.x,title_left='PDHG reco')"
   ]
  },
  {
   "cell_type": "code",
   "execution_count": null,
   "metadata": {},
   "outputs": [],
   "source": [
    "plt.semilogy(stop_FB_bil.gap_stat,label='ForwardBackward')\n",
    "plt.semilogy(stop_FISTA_bil.gap_stat,label='FISTA')\n",
    "plt.semilogy(stop_PDHG_bil.gap_stat,label='PDHG')\n",
    "plt.legend()\n",
    "plt.xlabel('it. step'); plt.ylabel('duality gap')\n",
    "plt.title('convergence for bilateral constraints')"
   ]
  }
 ],
 "metadata": {
  "kernelspec": {
   "display_name": "3.12.3",
   "language": "python",
   "name": "python3"
  },
  "language_info": {
   "codemirror_mode": {
    "name": "ipython",
    "version": 3
   },
   "file_extension": ".py",
   "mimetype": "text/x-python",
   "name": "python",
   "nbconvert_exporter": "python",
   "pygments_lexer": "ipython3",
   "version": "3.12.3"
  }
 },
 "nbformat": 4,
 "nbformat_minor": 2
}
