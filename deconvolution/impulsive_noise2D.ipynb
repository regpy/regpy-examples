{
 "cells": [
  {
   "cell_type": "code",
   "execution_count": null,
   "metadata": {},
   "outputs": [],
   "source": [
    "import numpy as np\n",
    "import matplotlib.pyplot as plt\n",
    "from regpy.operators.convolution import GaussianBlur\n",
    "from regpy.vecsps import UniformGridFcts\n",
    "from regpy.solvers import TikhonovRegularizationSetting, RegularizationSetting\n",
    "from regpy.solvers.linear.tikhonov import TikhonovCG\n",
    "from regpy.solvers.linear.primal_dual import PDHG\n",
    "from regpy.solvers.linear.proximal_gradient import FISTA\n",
    "import regpy.functionals as fct\n",
    "from regpy.hilbert import L2\n",
    "from regpy.stoprules import DualityGapStopping\n",
    "from comparison_plot import comparison_plot\n",
    "import logging"
   ]
  },
  {
   "cell_type": "markdown",
   "metadata": {},
   "source": [
    "# Generate a test image as exact solution"
   ]
  },
  {
   "cell_type": "code",
   "execution_count": null,
   "metadata": {},
   "outputs": [],
   "source": [
    "grid = UniformGridFcts((-1, 1, 256), (-1.5, 1, 256),dtype = float, periodic = True)\n",
    "\"\"\"Space of real-valued functions on a uniform grid with rectangular pixels\"\"\"\n",
    "X = grid.coords[0]; Y = grid.coords[1]\n",
    "\"\"\"x and y coordinates.\"\"\"\n",
    "cross = 1.0*np.logical_or((abs(X)<0.01) * (abs(Y)<0.3),(abs(X)<0.3) * (abs(Y)<0.01)) \n",
    "rad = np.sqrt(X**2 + Y**2)\n",
    "ring = 1.0*np.logical_and(rad>=0.9, rad<=0.925)\n",
    "smallbox = (abs(X+0.55)<=0.05) * (abs(Y-0.55)<=0.05)\n",
    "bubbles = (1.001+np.sin(50/(X+1.3)))*np.exp(-((Y+1.25)/0.1)**2)*(X>-0.8)*(X<0.8)\n",
    "\n",
    "ramp = Y<=-1\n",
    "\n",
    "objects = 50*(ring + 2.0*cross + 1.5*smallbox + 2*ramp -bubbles)\n",
    "exact_sol = objects \n"
   ]
  },
  {
   "cell_type": "markdown",
   "metadata": {},
   "source": [
    "# Generate synthetic data with impulsive noise"
   ]
  },
  {
   "cell_type": "code",
   "execution_count": null,
   "metadata": {},
   "outputs": [],
   "source": [
    "a=0.05\n",
    "conv =  GaussianBlur(grid,a,pad_amount=((16,16),(16,16)))\n",
    "\"\"\"Convolution operator \\(f\\mapsto h*f\\) for the convolution kernel \\(h(x)=\\exp(-|x|_2^2/a^2)\\).\"\"\"\n",
    "blur = conv(exact_sol)\n",
    "blur[blur<0] = 0.\n",
    "data = blur.copy()\n",
    "n,m=grid.shape\n",
    "for j in range(64**2):\n",
    "    nn = np.random.randint(n)\n",
    "    mm = np.random.randint(m)\n",
    "    data[nn,mm] =  np.random.randint(2000)-1000\n",
    "\n",
    "comparison_plot(grid,exact_sol,data,title_left='noisy measurement data')"
   ]
  },
  {
   "cell_type": "markdown",
   "metadata": {},
   "source": [
    "# Reconstruction with a quadratic data fidelity term\n",
    "... fails completely for this data!"
   ]
  },
  {
   "cell_type": "code",
   "execution_count": null,
   "metadata": {},
   "outputs": [],
   "source": [
    "alpha = 1e-4\n",
    "setting = RegularizationSetting(conv,L2,L2)\n",
    "solver = TikhonovCG(setting=setting, data = data, regpar = alpha,reltolx=1e-6)\n",
    "fal,_ = solver.run()\n",
    "\n",
    "comparison_plot(grid,exact_sol,fal,title_left='quadratic Tikhonov regularization')"
   ]
  },
  {
   "cell_type": "markdown",
   "metadata": {},
   "source": [
    "# setting with Huber data fidelity and quadratic penalty term\n",
    "We now set up a generalized Tikhonov regularization setting\n",
    "$$\n",
    "\\hat{f} \\in \\mathrm{argmin}_f\\left[\\frac{1}{\\alpha}H_{\\sigma}(Tf-g^{\\mathrm{obs}})+\\|f\\|^2\\right]    \n",
    "$$\n",
    "where the Huber data fidelity term $H_{\\sigma}$ is quadratic on coordinates in $[-\\sigma,\\sigma]$ and $|\\cdot|-\\sigma/2$ for large coordinates.\n",
    "\n",
    "We test three solvers for this setting:\n",
    "- FISTA applied to the primal problem\n",
    "- FISTA applied to the dual problem\n",
    "- Primal-Dual Hybrid Gradient (Chambolle-Pock) method"
   ]
  },
  {
   "cell_type": "code",
   "execution_count": null,
   "metadata": {},
   "outputs": [],
   "source": [
    "sigma = 0.1\n",
    "Sdat = (1./sigma)*fct.Huber(grid,sigma=sigma,eps =1e-10)\n",
    "huber_setting = TikhonovRegularizationSetting(conv,L2,Sdat,alpha,data_fid_shift=data)\n",
    "dual_setting = huber_setting.dualSetting()\n",
    "threshold = 1e-1\n",
    "max_iter=500"
   ]
  },
  {
   "cell_type": "markdown",
   "metadata": {},
   "source": [
    "### FISTA applied to primal problem"
   ]
  },
  {
   "cell_type": "code",
   "execution_count": null,
   "metadata": {},
   "outputs": [],
   "source": [
    "solverFISTA_primal = FISTA(huber_setting,logging_level=logging.DEBUG)\n",
    "stop_FISTA_primal=DualityGapStopping(solverFISTA_primal,threshold = threshold, max_iter=max_iter,logging_level=logging.INFO)\n",
    "f_FISTA_primal, _= solverFISTA_primal.run(stoprule=stop_FISTA_primal)\n",
    "\n",
    "comparison_plot(grid,exact_sol,f_FISTA_primal,title_left='FISTA primal')"
   ]
  },
  {
   "cell_type": "markdown",
   "metadata": {},
   "source": [
    "### FISTA applied to the dual problem"
   ]
  },
  {
   "cell_type": "code",
   "execution_count": null,
   "metadata": {},
   "outputs": [],
   "source": [
    "solverFISTA_dual = FISTA(dual_setting,logging_level=logging.DEBUG)\n",
    "stop_FISTA_dual=DualityGapStopping(solverFISTA_dual,threshold = threshold, max_iter=max_iter,logging_level=logging.INFO)\n",
    "pFISTA_dual, Tstar_pFISTA_dual= solverFISTA_dual.run(stoprule=stop_FISTA_dual)\n",
    "\n",
    "f_FISTA_dual = huber_setting.dualToPrimal(Tstar_pFISTA_dual,argumentIsOperatorImage=True)\n",
    "comparison_plot(grid,exact_sol,f_FISTA_dual,title_left='FISTA')"
   ]
  },
  {
   "cell_type": "markdown",
   "metadata": {},
   "source": [
    "### PDHG\n"
   ]
  },
  {
   "cell_type": "code",
   "execution_count": null,
   "metadata": {},
   "outputs": [],
   "source": [
    "solverPDHG = PDHG(huber_setting,logging_level=logging.INFO)\n",
    "stop_PDHG=DualityGapStopping(solverPDHG,threshold = threshold, max_iter=max_iter,logging_level=logging.INFO)\n",
    "f_PDHG, _= solverPDHG.run(stoprule=stop_PDHG)\n",
    "\n",
    "comparison_plot(grid,exact_sol,f_PDHG,title_left='PDHG')"
   ]
  },
  {
   "cell_type": "markdown",
   "metadata": {},
   "source": [
    "### comparison of convergence rates of minimization methods"
   ]
  },
  {
   "cell_type": "code",
   "execution_count": null,
   "metadata": {},
   "outputs": [],
   "source": [
    "plt.semilogy(stop_FISTA_primal.gap_stat,label='FISTA primal')\n",
    "plt.semilogy(stop_FISTA_dual.gap_stat,label='FISTA dual')\n",
    "plt.semilogy(stop_PDHG.gap_stat,label='PDHG')\n",
    "plt.legend()\n",
    "plt.xlabel('it. step'); plt.ylabel('duality gap')\n",
    "plt.title('Huber data fid., quadratic penalty')"
   ]
  },
  {
   "cell_type": "markdown",
   "metadata": {},
   "source": [
    "# setting with Huber data fidelity and quadratic penalty term with bilateral constraints\n",
    "We now set up a generalized Tikhonov regularization setting\n",
    "$$\n",
    "\\hat{f} \\in \\mathrm{argmin}_{0\\leq f\\leq ub}\\left[\\frac{1}{\\alpha}H_{\\sigma}(Tf-g^{\\mathrm{obs}})+\\|f\\|_{L^2}^2\\right]    \n",
    "$$\n",
    "where the Huber data fidelity term $H_{\\sigma}$ is quadratic on coordinates in $[-\\sigma,\\sigma]$ and $|\\cdot|-\\sigma/2$ for large coordinates.\n",
    "\n",
    "We test three solvers for this setting:\n",
    "- FISTA applied to the primal problem\n",
    "- FISTA applied to the dual problem\n",
    "- Primal-Dual Hybrid Gradient (Chambolle-Pock) method"
   ]
  },
  {
   "cell_type": "code",
   "execution_count": null,
   "metadata": {},
   "outputs": [],
   "source": [
    "sigma = 0.1\n",
    "Sdat = (1./sigma)*fct.Huber(grid,sigma=sigma,eps=1e-10)\n",
    "Rfun = fct.QuadraticBilateralConstraints(grid,lb=0,ub=100,eps=1e-10)\n",
    "huber_constr_setting = TikhonovRegularizationSetting(conv,Rfun,Sdat,alpha,data_fid_shift=data,logging_level=logging.DEBUG)\n",
    "dual_constr_setting = huber_constr_setting.dualSetting()\n",
    "threshold =0.1\n",
    "max_iter = 500"
   ]
  },
  {
   "cell_type": "markdown",
   "metadata": {},
   "source": [
    "### FISTA applied to primal setting "
   ]
  },
  {
   "cell_type": "code",
   "execution_count": null,
   "metadata": {},
   "outputs": [],
   "source": [
    "solverFISTA_constr_primal = FISTA(huber_constr_setting,logging_level=logging.DEBUG)\n",
    "stop_FISTA_constr_primal=DualityGapStopping(solverFISTA_constr_primal,threshold = threshold, max_iter=max_iter,logging_level=logging.DEBUG)\n",
    "f_FISTA_constr_primal, _= solverFISTA_constr_primal.run(stoprule=stop_FISTA_constr_primal)\n",
    "\n",
    "comparison_plot(grid,exact_sol,f_FISTA_constr_primal,title_left='FISTA constraint primal')"
   ]
  },
  {
   "cell_type": "markdown",
   "metadata": {},
   "source": [
    "### FISTA applied to the dual setting"
   ]
  },
  {
   "cell_type": "code",
   "execution_count": null,
   "metadata": {},
   "outputs": [],
   "source": [
    "solverFISTA_constr_dual = FISTA(dual_constr_setting,logging_level=logging.DEBUG)\n",
    "stop_FISTA_constr_dual=DualityGapStopping(solverFISTA_constr_dual,threshold = threshold, max_iter=max_iter,logging_level=logging.INFO)\n",
    "pFISTA_constr_dual, Tstar_pFISTA_constr_dual= solverFISTA_constr_dual.run(stoprule=stop_FISTA_constr_dual)\n",
    "\n",
    "f_FISTA_constr_dual = huber_constr_setting.dualToPrimal(Tstar_pFISTA_constr_dual,argumentIsOperatorImage=True)\n",
    "comparison_plot(grid,exact_sol,f_FISTA_constr_dual,title_left='FISTA dual')"
   ]
  },
  {
   "cell_type": "markdown",
   "metadata": {},
   "source": [
    "### PDHG"
   ]
  },
  {
   "cell_type": "code",
   "execution_count": null,
   "metadata": {},
   "outputs": [],
   "source": [
    "solverPDHG_constr = PDHG(huber_constr_setting,logging_level=logging.INFO)\n",
    "stop_PDHG_constr=DualityGapStopping(solverPDHG_constr,threshold = threshold, max_iter=max_iter,logging_level=logging.INFO)\n",
    "f_PDHG_constr, _= solverPDHG_constr.run(stoprule=stop_PDHG_constr)\n",
    "\n",
    "comparison_plot(grid,exact_sol,f_PDHG_constr,title_left='PDHG')"
   ]
  },
  {
   "cell_type": "markdown",
   "metadata": {},
   "source": [
    "### comparison of convergence rates of minimization methods"
   ]
  },
  {
   "cell_type": "code",
   "execution_count": null,
   "metadata": {},
   "outputs": [],
   "source": [
    "plt.semilogy(stop_FISTA_constr_primal.gap_stat,label='FISTA primal')\n",
    "plt.semilogy(stop_FISTA_constr_dual.gap_stat,label='FISTA dual')\n",
    "plt.semilogy(stop_PDHG_constr.gap_stat,label='PDHG')\n",
    "plt.legend()\n",
    "plt.xlabel('it. step'); plt.ylabel('duality gap')\n",
    "plt.title('Huber data fid., quadratic constr. penalty')"
   ]
  },
  {
   "cell_type": "markdown",
   "metadata": {},
   "source": [
    "# setting with \\(L^1\\) fidelity and quadratic penalty term with bilateral constraints\n",
    "We now set up a generalized Tikhonov regularization setting\n",
    "$$\n",
    "\\hat{f} \\in \\mathrm{argmin}_{0\\leq f\\leq ub}\\left[\\frac{1}{\\alpha}\\|Tf-g^{\\mathrm{obs}}\\|_{L^1}+\\|f\\|_{L^2}^2.\\right]    \n",
    "$$\n",
    "\n",
    "We test two solvers for this setting:\n",
    "- FISTA applied to the dual problem\n",
    "- Primal-Dual Hybrid Gradient (Chambolle-Pock) method"
   ]
  },
  {
   "cell_type": "code",
   "execution_count": null,
   "metadata": {},
   "outputs": [],
   "source": [
    "\n",
    "Sdat = fct.L1(grid)\n",
    "Rfun = fct.QuadraticBilateralConstraints(grid,lb=0,ub=100,eps=1e-10)\n",
    "huber_constr_setting = TikhonovRegularizationSetting(conv,Rfun,Sdat,alpha,data_fid_shift=data,logging_level=logging.DEBUG)\n",
    "dual_constr_setting = huber_constr_setting.dualSetting()\n",
    "threshold =0.1\n",
    "max_iter = 500"
   ]
  }
 ],
 "metadata": {
  "kernelspec": {
   "display_name": "3.12.3",
   "language": "python",
   "name": "python3"
  },
  "language_info": {
   "codemirror_mode": {
    "name": "ipython",
    "version": 3
   },
   "file_extension": ".py",
   "mimetype": "text/x-python",
   "name": "python",
   "nbconvert_exporter": "python",
   "pygments_lexer": "ipython3",
   "version": "3.12.3"
  }
 },
 "nbformat": 4,
 "nbformat_minor": 2
}
